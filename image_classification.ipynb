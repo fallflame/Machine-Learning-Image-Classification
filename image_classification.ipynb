{
 "cells": [
  {
   "cell_type": "markdown",
   "metadata": {
    "collapsed": true,
    "deletable": true,
    "editable": true
   },
   "source": [
    "# Image Classification\n",
    "In this project, you'll classify images from the [CIFAR-10 dataset](https://www.cs.toronto.edu/~kriz/cifar.html).  The dataset consists of airplanes, dogs, cats, and other objects. You'll preprocess the images, then train a convolutional neural network on all the samples. The images need to be normalized and the labels need to be one-hot encoded.  You'll get to apply what you learned and build a convolutional, max pooling, dropout, and fully connected layers.  At the end, you'll get to see your neural network's predictions on the sample images.\n",
    "## Get the Data\n",
    "Run the following cell to download the [CIFAR-10 dataset for python](https://www.cs.toronto.edu/~kriz/cifar-10-python.tar.gz)."
   ]
  },
  {
   "cell_type": "code",
   "execution_count": 1,
   "metadata": {
    "collapsed": false,
    "deletable": true,
    "editable": true
   },
   "outputs": [
    {
     "name": "stderr",
     "output_type": "stream",
     "text": [
      "CIFAR-10 Dataset: 171MB [03:39, 778KB/s]                               \n"
     ]
    },
    {
     "name": "stdout",
     "output_type": "stream",
     "text": [
      "All files found!\n"
     ]
    }
   ],
   "source": [
    "\"\"\"\n",
    "DON'T MODIFY ANYTHING IN THIS CELL THAT IS BELOW THIS LINE\n",
    "\"\"\"\n",
    "from urllib.request import urlretrieve\n",
    "from os.path import isfile, isdir\n",
    "from tqdm import tqdm\n",
    "import problem_unittests as tests\n",
    "import tarfile\n",
    "\n",
    "cifar10_dataset_folder_path = 'cifar-10-batches-py'\n",
    "\n",
    "class DLProgress(tqdm):\n",
    "    last_block = 0\n",
    "\n",
    "    def hook(self, block_num=1, block_size=1, total_size=None):\n",
    "        self.total = total_size\n",
    "        self.update((block_num - self.last_block) * block_size)\n",
    "        self.last_block = block_num\n",
    "\n",
    "if not isfile('cifar-10-python.tar.gz'):\n",
    "    with DLProgress(unit='B', unit_scale=True, miniters=1, desc='CIFAR-10 Dataset') as pbar:\n",
    "        urlretrieve(\n",
    "            'https://www.cs.toronto.edu/~kriz/cifar-10-python.tar.gz',\n",
    "            'cifar-10-python.tar.gz',\n",
    "            pbar.hook)\n",
    "\n",
    "if not isdir(cifar10_dataset_folder_path):\n",
    "    with tarfile.open('cifar-10-python.tar.gz') as tar:\n",
    "        tar.extractall()\n",
    "        tar.close()\n",
    "\n",
    "\n",
    "tests.test_folder_path(cifar10_dataset_folder_path)"
   ]
  },
  {
   "cell_type": "markdown",
   "metadata": {
    "deletable": true,
    "editable": true
   },
   "source": [
    "## Explore the Data\n",
    "The dataset is broken into batches to prevent your machine from running out of memory.  The CIFAR-10 dataset consists of 5 batches, named `data_batch_1`, `data_batch_2`, etc.. Each batch contains the labels and images that are one of the following:\n",
    "* airplane\n",
    "* automobile\n",
    "* bird\n",
    "* cat\n",
    "* deer\n",
    "* dog\n",
    "* frog\n",
    "* horse\n",
    "* ship\n",
    "* truck\n",
    "\n",
    "Understanding a dataset is part of making predictions on the data.  Play around with the code cell below by changing the `batch_id` and `sample_id`. The `batch_id` is the id for a batch (1-5). The `sample_id` is the id for a image and label pair in the batch.\n",
    "\n",
    "Ask yourself \"What are all possible labels?\", \"What is the range of values for the image data?\", \"Are the labels in order or random?\".  Answers to questions like these will help you preprocess the data and end up with better predictions."
   ]
  },
  {
   "cell_type": "code",
   "execution_count": 6,
   "metadata": {
    "collapsed": false,
    "deletable": true,
    "editable": true
   },
   "outputs": [
    {
     "name": "stdout",
     "output_type": "stream",
     "text": [
      "\n",
      "Stats of batch 1:\n",
      "Samples: 10000\n",
      "Label Counts: {0: 1005, 1: 974, 2: 1032, 3: 1016, 4: 999, 5: 937, 6: 1030, 7: 1001, 8: 1025, 9: 981}\n",
      "First 20 Labels: [6, 9, 9, 4, 1, 1, 2, 7, 8, 3, 4, 7, 7, 2, 9, 9, 9, 3, 2, 6]\n",
      "\n",
      "Example of Image 5:\n",
      "Image - Min Value: 0 Max Value: 252\n",
      "Image - Shape: (32, 32, 3)\n",
      "Label - Label Id: 1 Name: automobile\n"
     ]
    },
    {
     "data": {
      "image/png": "[encoded data removed]",
      "text/plain": [
       "<matplotlib.figure.Figure at 0x2d032b66208>"
      ]
     },
     "metadata": {
      "image/png": {
       "height": 250,
       "width": 253
      }
     },
     "output_type": "display_data"
    }
   ],
   "source": [
    "%matplotlib inline\n",
    "%config InlineBackend.figure_format = 'retina'\n",
    "\n",
    "import helper\n",
    "import numpy as np\n",
    "\n",
    "# Explore the dataset\n",
    "batch_id = 1\n",
    "sample_id = 5\n",
    "helper.display_stats(cifar10_dataset_folder_path, batch_id, sample_id)"
   ]
  },
  {
   "cell_type": "markdown",
   "metadata": {
    "deletable": true,
    "editable": true
   },
   "source": [
    "## Implement Preprocess Functions\n",
    "### Normalize\n",
    "In the cell below, implement the `normalize` function to take in image data, `x`, and return it as a normalized Numpy array. The values should be in the range of 0 to 1, inclusive.  The return object should be the same shape as `x`."
   ]
  },
  {
   "cell_type": "code",
   "execution_count": 7,
   "metadata": {
    "collapsed": false,
    "deletable": true,
    "editable": true
   },
   "outputs": [
    {
     "name": "stdout",
     "output_type": "stream",
     "text": [
      "Tests Passed\n"
     ]
    }
   ],
   "source": [
    "def normalize(x):\n",
    "    \"\"\"\n",
    "    Normalize a list of sample image data in the range of 0 to 1\n",
    "    : x: List of image data.  The image shape is (32, 32, 3)\n",
    "    : return: Numpy array of normalize data\n",
    "    \"\"\"\n",
    "    # TODO: Implement Function\n",
    "    return x / 255\n",
    "\n",
    "\n",
    "\"\"\"\n",
    "DON'T MODIFY ANYTHING IN THIS CELL THAT IS BELOW THIS LINE\n",
    "\"\"\"\n",
    "tests.test_normalize(normalize)"
   ]
  },
  {
   "cell_type": "markdown",
   "metadata": {
    "deletable": true,
    "editable": true
   },
   "source": [
    "### One-hot encode\n",
    "Just like the previous code cell, you'll be implementing a function for preprocessing.  This time, you'll implement the `one_hot_encode` function. The input, `x`, are a list of labels.  Implement the function to return the list of labels as One-Hot encoded Numpy array.  The possible values for labels are 0 to 9. The one-hot encoding function should return the same encoding for each value between each call to `one_hot_encode`.  Make sure to save the map of encodings outside the function.\n",
    "\n",
    "**Hint:**\n",
    "\n",
    "Look into LabelBinarizer in the preprocessing module of sklearn."
   ]
  },
  {
   "cell_type": "code",
   "execution_count": 11,
   "metadata": {
    "collapsed": false,
    "deletable": true,
    "editable": true
   },
   "outputs": [
    {
     "name": "stdout",
     "output_type": "stream",
     "text": [
      "Tests Passed\n"
     ]
    }
   ],
   "source": [
    "def one_hot_encode(x):\n",
    "    \"\"\"\n",
    "    One hot encode a list of sample labels. Return a one-hot encoded vector for each label.\n",
    "    : x: List of sample Labels\n",
    "    : return: Numpy array of one-hot encoded labels\n",
    "    \"\"\"\n",
    "    # TODO: Implement Function\n",
    "    \n",
    "    one_hot = np.zeros((len(x), 10))\n",
    "    one_hot[np.arange(len(x)), x] = 1\n",
    "\n",
    "    return one_hot\n",
    "\n",
    "\n",
    "\"\"\"\n",
    "DON'T MODIFY ANYTHING IN THIS CELL THAT IS BELOW THIS LINE\n",
    "\"\"\"\n",
    "tests.test_one_hot_encode(one_hot_encode)"
   ]
  },
  {
   "cell_type": "markdown",
   "metadata": {
    "deletable": true,
    "editable": true
   },
   "source": [
    "### Randomize Data\n",
    "As you saw from exploring the data above, the order of the samples are randomized.  It doesn't hurt to randomize it again, but you don't need to for this dataset."
   ]
  },
  {
   "cell_type": "markdown",
   "metadata": {
    "deletable": true,
    "editable": true
   },
   "source": [
    "## Preprocess all the data and save it\n",
    "Running the code cell below will preprocess all the CIFAR-10 data and save it to file. The code below also uses 10% of the training data for validation."
   ]
  },
  {
   "cell_type": "code",
   "execution_count": 12,
   "metadata": {
    "collapsed": false,
    "deletable": true,
    "editable": true
   },
   "outputs": [],
   "source": [
    "\"\"\"\n",
    "DON'T MODIFY ANYTHING IN THIS CELL\n",
    "\"\"\"\n",
    "# Preprocess Training, Validation, and Testing Data\n",
    "helper.preprocess_and_save_data(cifar10_dataset_folder_path, normalize, one_hot_encode)"
   ]
  },
  {
   "cell_type": "markdown",
   "metadata": {
    "deletable": true,
    "editable": true
   },
   "source": [
    "# Check Point\n",
    "This is your first checkpoint.  If you ever decide to come back to this notebook or have to restart the notebook, you can start from here.  The preprocessed data has been saved to disk."
   ]
  },
  {
   "cell_type": "code",
   "execution_count": 13,
   "metadata": {
    "collapsed": true,
    "deletable": true,
    "editable": true
   },
   "outputs": [],
   "source": [
    "\"\"\"\n",
    "DON'T MODIFY ANYTHING IN THIS CELL\n",
    "\"\"\"\n",
    "import pickle\n",
    "import problem_unittests as tests\n",
    "import helper\n",
    "\n",
    "# Load the Preprocessed Validation data\n",
    "valid_features, valid_labels = pickle.load(open('preprocess_validation.p', mode='rb'))"
   ]
  },
  {
   "cell_type": "markdown",
   "metadata": {
    "deletable": true,
    "editable": true
   },
   "source": [
    "## Build the network\n",
    "For the neural network, you'll build each layer into a function.  Most of the code you've seen has been outside of functions. To test your code more thoroughly, we require that you put each layer in a function.  This allows us to give you better feedback and test for simple mistakes using our unittests before you submit your project.\n",
    "\n",
    ">**Note:** If you're finding it hard to dedicate enough time for this course each week, we've provided a small shortcut to this part of the project. In the next couple of problems, you'll have the option to use classes from the [TensorFlow Layers](https://www.tensorflow.org/api_docs/python/tf/layers) or [TensorFlow Layers (contrib)](https://www.tensorflow.org/api_guides/python/contrib.layers) packages to build each layer, except the layers you build in the \"Convolutional and Max Pooling Layer\" section.  TF Layers is similar to Keras's and TFLearn's abstraction to layers, so it's easy to pickup.\n",
    "\n",
    ">However, if you would like to get the most out of this course, try to solve all the problems _without_ using anything from the TF Layers packages. You **can** still use classes from other packages that happen to have the same name as ones you find in TF Layers! For example, instead of using the TF Layers version of the `conv2d` class, [tf.layers.conv2d](https://www.tensorflow.org/api_docs/python/tf/layers/conv2d), you would want to use the TF Neural Network version of `conv2d`, [tf.nn.conv2d](https://www.tensorflow.org/api_docs/python/tf/nn/conv2d). \n",
    "\n",
    "Let's begin!\n",
    "\n",
    "### Input\n",
    "The neural network needs to read the image data, one-hot encoded labels, and dropout keep probability. Implement the following functions\n",
    "* Implement `neural_net_image_input`\n",
    " * Return a [TF Placeholder](https://www.tensorflow.org/api_docs/python/tf/placeholder)\n",
    " * Set the shape using `image_shape` with batch size set to `None`.\n",
    " * Name the TensorFlow placeholder \"x\" using the TensorFlow `name` parameter in the [TF Placeholder](https://www.tensorflow.org/api_docs/python/tf/placeholder).\n",
    "* Implement `neural_net_label_input`\n",
    " * Return a [TF Placeholder](https://www.tensorflow.org/api_docs/python/tf/placeholder)\n",
    " * Set the shape using `n_classes` with batch size set to `None`.\n",
    " * Name the TensorFlow placeholder \"y\" using the TensorFlow `name` parameter in the [TF Placeholder](https://www.tensorflow.org/api_docs/python/tf/placeholder).\n",
    "* Implement `neural_net_keep_prob_input`\n",
    " * Return a [TF Placeholder](https://www.tensorflow.org/api_docs/python/tf/placeholder) for dropout keep probability.\n",
    " * Name the TensorFlow placeholder \"keep_prob\" using the TensorFlow `name` parameter in the [TF Placeholder](https://www.tensorflow.org/api_docs/python/tf/placeholder).\n",
    "\n",
    "These names will be used at the end of the project to load your saved model.\n",
    "\n",
    "Note: `None` for shapes in TensorFlow allow for a dynamic size."
   ]
  },
  {
   "cell_type": "code",
   "execution_count": 18,
   "metadata": {
    "collapsed": false,
    "deletable": true,
    "editable": true
   },
   "outputs": [
    {
     "name": "stdout",
     "output_type": "stream",
     "text": [
      "Image Input Tests Passed.\n",
      "Label Input Tests Passed.\n",
      "Keep Prob Tests Passed.\n"
     ]
    }
   ],
   "source": [
    "import tensorflow as tf\n",
    "\n",
    "def neural_net_image_input(image_shape):\n",
    "    \"\"\"\n",
    "    Return a Tensor for a batch of image input\n",
    "    : image_shape: Shape of the images\n",
    "    : return: Tensor for image input.\n",
    "    \"\"\"\n",
    "    # TODO: Implement Function\n",
    "    return tf.placeholder(tf.float32, (None, image_shape[0], image_shape[1], image_shape[2]), name = 'x')\n",
    "\n",
    "\n",
    "def neural_net_label_input(n_classes):\n",
    "    \"\"\"\n",
    "    Return a Tensor for a batch of label input\n",
    "    : n_classes: Number of classes\n",
    "    : return: Tensor for label input.\n",
    "    \"\"\"\n",
    "    # TODO: Implement Function\n",
    "    return tf.placeholder(tf.int8, (None, n_classes), name = 'y')\n",
    "\n",
    "\n",
    "def neural_net_keep_prob_input():\n",
    "    \"\"\"\n",
    "    Return a Tensor for keep probability\n",
    "    : return: Tensor for keep probability.\n",
    "    \"\"\"\n",
    "    # TODO: Implement Function\n",
    "    return tf.placeholder(tf.float32, name = 'keep_prob')\n",
    "\n",
    "\n",
    "\"\"\"\n",
    "DON'T MODIFY ANYTHING IN THIS CELL THAT IS BELOW THIS LINE\n",
    "\"\"\"\n",
    "tf.reset_default_graph()\n",
    "tests.test_nn_image_inputs(neural_net_image_input)\n",
    "tests.test_nn_label_inputs(neural_net_label_input)\n",
    "tests.test_nn_keep_prob_inputs(neural_net_keep_prob_input)"
   ]
  },
  {
   "cell_type": "markdown",
   "metadata": {
    "deletable": true,
    "editable": true
   },
   "source": [
    "### Convolution and Max Pooling Layer\n",
    "Convolution layers have a lot of success with images. For this code cell, you should implement the function `conv2d_maxpool` to apply convolution then max pooling:\n",
    "* Create the weight and bias using `conv_ksize`, `conv_num_outputs` and the shape of `x_tensor`.\n",
    "* Apply a convolution to `x_tensor` using weight and `conv_strides`.\n",
    " * We recommend you use same padding, but you're welcome to use any padding.\n",
    "* Add bias\n",
    "* Add a nonlinear activation to the convolution.\n",
    "* Apply Max Pooling using `pool_ksize` and `pool_strides`.\n",
    " * We recommend you use same padding, but you're welcome to use any padding.\n",
    "\n",
    "**Note:** You **can't** use [TensorFlow Layers](https://www.tensorflow.org/api_docs/python/tf/layers) or [TensorFlow Layers (contrib)](https://www.tensorflow.org/api_guides/python/contrib.layers) for **this** layer, but you can still use TensorFlow's [Neural Network](https://www.tensorflow.org/api_docs/python/tf/nn) package. You may still use the shortcut option for all the **other** layers.\n",
    "\n",
    "** Hint: **\n",
    "\n",
    "When unpacking values as an argument in Python, look into the [unpacking](https://docs.python.org/3/tutorial/controlflow.html#unpacking-argument-lists) operator. "
   ]
  },
  {
   "cell_type": "code",
   "execution_count": 39,
   "metadata": {
    "collapsed": false,
    "deletable": true,
    "editable": true
   },
   "outputs": [
    {
     "name": "stdout",
     "output_type": "stream",
     "text": [
      "Tests Passed\n"
     ]
    }
   ],
   "source": [
    "def conv2d_maxpool(x_tensor, conv_num_outputs, conv_ksize, conv_strides, pool_ksize, pool_strides):\n",
    "    \"\"\"\n",
    "    Apply convolution then max pooling to x_tensor\n",
    "    :param x_tensor: TensorFlow Tensor\n",
    "    :param conv_num_outputs: Number of outputs for the convolutional layer\n",
    "    :param conv_ksize: kernal size 2-D Tuple for the convolutional layer\n",
    "    :param conv_strides: Stride 2-D Tuple for convolution\n",
    "    :param pool_ksize: kernal size 2-D Tuple for pool\n",
    "    :param pool_strides: Stride 2-D Tuple for pool\n",
    "    : return: A tensor that represents convolution and max pooling of x_tensor\n",
    "    \"\"\"\n",
    "    # TODO: Implement Function\n",
    "    mu = 0\n",
    "    sigma = 0.1\n",
    "        \n",
    "    # Convolutional\n",
    "    conv_W = tf.Variable(tf.truncated_normal(shape=(conv_ksize[0], conv_ksize[1], int(x_tensor.get_shape()[3]), conv_num_outputs), mean = mu, stddev = sigma))\n",
    "    conv_b = tf.Variable(tf.zeros(conv_num_outputs))\n",
    "    conv   = tf.nn.conv2d(x_tensor, conv_W, strides=[1, conv_strides[0], conv_strides[1], 1], padding='VALID') + conv_b\n",
    "\n",
    "\n",
    "    # Pooling\n",
    "    conv = tf.nn.max_pool(conv, ksize=[1, pool_ksize[0], pool_ksize[1], 1], strides=[1, pool_strides[0], pool_strides[1], 1], padding='VALID')\n",
    "\n",
    "    return conv\n",
    "\n",
    "\n",
    "\"\"\"\n",
    "DON'T MODIFY ANYTHING IN THIS CELL THAT IS BELOW THIS LINE\n",
    "\"\"\"\n",
    "tests.test_con_pool(conv2d_maxpool)"
   ]
  },
  {
   "cell_type": "markdown",
   "metadata": {
    "deletable": true,
    "editable": true
   },
   "source": [
    "### Flatten Layer\n",
    "Implement the `flatten` function to change the dimension of `x_tensor` from a 4-D tensor to a 2-D tensor.  The output should be the shape (*Batch Size*, *Flattened Image Size*). Shortcut option: you can use classes from the [TensorFlow Layers](https://www.tensorflow.org/api_docs/python/tf/layers) or [TensorFlow Layers (contrib)](https://www.tensorflow.org/api_guides/python/contrib.layers) packages for this layer. For more of a challenge, only use other TensorFlow packages."
   ]
  },
  {
   "cell_type": "code",
   "execution_count": 40,
   "metadata": {
    "collapsed": false,
    "deletable": true,
    "editable": true
   },
   "outputs": [
    {
     "name": "stdout",
     "output_type": "stream",
     "text": [
      "Tests Passed\n"
     ]
    }
   ],
   "source": [
    "from tensorflow.contrib.layers import flatten as tf_flatten\n",
    "\n",
    "def flatten(x_tensor):\n",
    "    \"\"\"\n",
    "    Flatten x_tensor to (Batch Size, Flattened Image Size)\n",
    "    : x_tensor: A tensor of size (Batch Size, ...), where ... are the image dimensions.\n",
    "    : return: A tensor of size (Batch Size, Flattened Image Size).\n",
    "    \"\"\"\n",
    "    # TODO: Implement Function\n",
    "    return tf_flatten(x_tensor)\n",
    "\n",
    "\n",
    "\"\"\"\n",
    "DON'T MODIFY ANYTHING IN THIS CELL THAT IS BELOW THIS LINE\n",
    "\"\"\"\n",
    "tests.test_flatten(flatten)"
   ]
  },
  {
   "cell_type": "markdown",
   "metadata": {
    "deletable": true,
    "editable": true
   },
   "source": [
    "### Fully-Connected Layer\n",
    "Implement the `fully_conn` function to apply a fully connected layer to `x_tensor` with the shape (*Batch Size*, *num_outputs*). Shortcut option: you can use classes from the [TensorFlow Layers](https://www.tensorflow.org/api_docs/python/tf/layers) or [TensorFlow Layers (contrib)](https://www.tensorflow.org/api_guides/python/contrib.layers) packages for this layer. For more of a challenge, only use other TensorFlow packages."
   ]
  },
  {
   "cell_type": "code",
   "execution_count": 41,
   "metadata": {
    "collapsed": false,
    "deletable": true,
    "editable": true
   },
   "outputs": [
    {
     "name": "stdout",
     "output_type": "stream",
     "text": [
      "Tests Passed\n"
     ]
    }
   ],
   "source": [
    "def fully_conn(x_tensor, num_outputs):\n",
    "    \"\"\"\n",
    "    Apply a fully connected layer to x_tensor using weight and bias\n",
    "    : x_tensor: A 2-D tensor where the first dimension is batch size.\n",
    "    : num_outputs: The number of output that the new tensor should be.\n",
    "    : return: A 2-D tensor where the second dimension is num_outputs.\n",
    "    \"\"\"\n",
    "    # TODO: Implement Function\n",
    "    mu = 0\n",
    "    sigma = 0.1\n",
    "    \n",
    "    fc_W  = tf.Variable(tf.truncated_normal(shape=(int(x_tensor.get_shape()[1]), num_outputs), mean = mu, stddev = sigma))\n",
    "    fc_b  = tf.Variable(tf.zeros(num_outputs))\n",
    "    \n",
    "    return tf.matmul(x_tensor, fc_W) + fc_b\n",
    "\n",
    "\n",
    "\"\"\"\n",
    "DON'T MODIFY ANYTHING IN THIS CELL THAT IS BELOW THIS LINE\n",
    "\"\"\"\n",
    "tests.test_fully_conn(fully_conn)"
   ]
  },
  {
   "cell_type": "markdown",
   "metadata": {
    "deletable": true,
    "editable": true
   },
   "source": [
    "### Output Layer\n",
    "Implement the `output` function to apply a fully connected layer to `x_tensor` with the shape (*Batch Size*, *num_outputs*). Shortcut option: you can use classes from the [TensorFlow Layers](https://www.tensorflow.org/api_docs/python/tf/layers) or [TensorFlow Layers (contrib)](https://www.tensorflow.org/api_guides/python/contrib.layers) packages for this layer. For more of a challenge, only use other TensorFlow packages.\n",
    "\n",
    "**Note:** Activation, softmax, or cross entropy should **not** be applied to this."
   ]
  },
  {
   "cell_type": "code",
   "execution_count": 42,
   "metadata": {
    "collapsed": false,
    "deletable": true,
    "editable": true
   },
   "outputs": [
    {
     "name": "stdout",
     "output_type": "stream",
     "text": [
      "Tests Passed\n"
     ]
    }
   ],
   "source": [
    "def output(x_tensor, num_outputs):\n",
    "    \"\"\"\n",
    "    Apply a output layer to x_tensor using weight and bias\n",
    "    : x_tensor: A 2-D tensor where the first dimension is batch size.\n",
    "    : num_outputs: The number of output that the new tensor should be.\n",
    "    : return: A 2-D tensor where the second dimension is num_outputs.\n",
    "    \"\"\"\n",
    "    # TODO: Implement Function\n",
    "    return fully_conn(x_tensor, num_outputs)\n",
    "\n",
    "\n",
    "\"\"\"\n",
    "DON'T MODIFY ANYTHING IN THIS CELL THAT IS BELOW THIS LINE\n",
    "\"\"\"\n",
    "tests.test_output(output)"
   ]
  },
  {
   "cell_type": "markdown",
   "metadata": {
    "deletable": true,
    "editable": true
   },
   "source": [
    "### Create Convolutional Model\n",
    "Implement the function `conv_net` to create a convolutional neural network model. The function takes in a batch of images, `x`, and outputs logits.  Use the layers you created above to create this model:\n",
    "\n",
    "* Apply 1, 2, or 3 Convolution and Max Pool layers\n",
    "* Apply a Flatten Layer\n",
    "* Apply 1, 2, or 3 Fully Connected Layers\n",
    "* Apply an Output Layer\n",
    "* Return the output\n",
    "* Apply [TensorFlow's Dropout](https://www.tensorflow.org/api_docs/python/tf/nn/dropout) to one or more layers in the model using `keep_prob`. "
   ]
  },
  {
   "cell_type": "code",
   "execution_count": 57,
   "metadata": {
    "collapsed": false,
    "deletable": true,
    "editable": true
   },
   "outputs": [
    {
     "name": "stdout",
     "output_type": "stream",
     "text": [
      "Neural Network Built!\n"
     ]
    }
   ],
   "source": [
    "def conv_net(x, keep_prob):\n",
    "    \"\"\"\n",
    "    Create a convolutional neural network model\n",
    "    : x: Placeholder tensor that holds image data.\n",
    "    : keep_prob: Placeholder tensor that hold dropout keep probability.\n",
    "    : return: Tensor that represents logits\n",
    "    \"\"\"\n",
    "    # TODO: Apply 1, 2, or 3 Convolution and Max Pool layers\n",
    "    #    Play around with different number of outputs, kernel size and stride\n",
    "    # Function Definition from Above:\n",
    "    #    conv2d_maxpool(x_tensor, conv_num_outputs, conv_ksize, conv_strides, pool_ksize, pool_strides)\n",
    "    \n",
    "    conv1 = conv2d_maxpool(x,     10, (5, 5), (1, 1), (2, 2), (2, 2))\n",
    "    conv2 = conv2d_maxpool(conv1, 20, (3, 3), (1, 1), (2, 2), (1, 1))\n",
    "    conv3 = conv2d_maxpool(conv1, 40, (3, 3), (1, 1), (1, 1), (1, 1))\n",
    "\n",
    "    # TODO: Apply a Flatten Layer\n",
    "    # Function Definition from Above:\n",
    "    flat = flatten(conv3)\n",
    "    \n",
    "    dp = tf.nn.dropout(flat, keep_prob)\n",
    "    \n",
    "    # TODO: Apply 1, 2, or 3 Fully Connected Layers\n",
    "    #    Play around with different number of outputs\n",
    "    # Function Definition from Above:\n",
    "    #   fully_conn(x_tensor, num_outputs)\n",
    "    \n",
    "    fc1 = fully_conn(dp, 1000)\n",
    "    fc2 = fully_conn(fc1, 100)\n",
    "\n",
    "    \n",
    "    # TODO: Apply an Output Layer\n",
    "    #    Set this to the number of classes\n",
    "    # Function Definition from Above:\n",
    "    #   output(x_tensor, num_outputs)\n",
    "    \n",
    "    out = output(fc2, 10)\n",
    "    \n",
    "    # TODO: return output\n",
    "    return out\n",
    "\n",
    "\n",
    "\"\"\"\n",
    "DON'T MODIFY ANYTHING IN THIS CELL THAT IS BELOW THIS LINE\n",
    "\"\"\"\n",
    "\n",
    "##############################\n",
    "## Build the Neural Network ##\n",
    "##############################\n",
    "\n",
    "# Remove previous weights, bias, inputs, etc..\n",
    "tf.reset_default_graph()\n",
    "\n",
    "# Inputs\n",
    "x = neural_net_image_input((32, 32, 3))\n",
    "y = neural_net_label_input(10)\n",
    "keep_prob = neural_net_keep_prob_input()\n",
    "\n",
    "# Model\n",
    "logits = conv_net(x, keep_prob)\n",
    "\n",
    "# Name logits Tensor, so that is can be loaded from disk after training\n",
    "logits = tf.identity(logits, name='logits')\n",
    "\n",
    "# Loss and Optimizer\n",
    "cost = tf.reduce_mean(tf.nn.softmax_cross_entropy_with_logits(logits=logits, labels=y))\n",
    "optimizer = tf.train.AdamOptimizer().minimize(cost)\n",
    "\n",
    "# Accuracy\n",
    "correct_pred = tf.equal(tf.argmax(logits, 1), tf.argmax(y, 1))\n",
    "accuracy = tf.reduce_mean(tf.cast(correct_pred, tf.float32), name='accuracy')\n",
    "\n",
    "tests.test_conv_net(conv_net)"
   ]
  },
  {
   "cell_type": "markdown",
   "metadata": {
    "deletable": true,
    "editable": true
   },
   "source": [
    "## Train the Neural Network\n",
    "### Single Optimization\n",
    "Implement the function `train_neural_network` to do a single optimization.  The optimization should use `optimizer` to optimize in `session` with a `feed_dict` of the following:\n",
    "* `x` for image input\n",
    "* `y` for labels\n",
    "* `keep_prob` for keep probability for dropout\n",
    "\n",
    "This function will be called for each batch, so `tf.global_variables_initializer()` has already been called.\n",
    "\n",
    "Note: Nothing needs to be returned. This function is only optimizing the neural network."
   ]
  },
  {
   "cell_type": "code",
   "execution_count": 58,
   "metadata": {
    "collapsed": false,
    "deletable": true,
    "editable": true
   },
   "outputs": [
    {
     "name": "stdout",
     "output_type": "stream",
     "text": [
      "Tests Passed\n"
     ]
    }
   ],
   "source": [
    "def train_neural_network(session, optimizer, keep_probability, feature_batch, label_batch):\n",
    "    \"\"\"\n",
    "    Optimize the session on a batch of images and labels\n",
    "    : session: Current TensorFlow session\n",
    "    : optimizer: TensorFlow optimizer function\n",
    "    : keep_probability: keep probability\n",
    "    : feature_batch: Batch of Numpy image data\n",
    "    : label_batch: Batch of Numpy label data\n",
    "    \"\"\"\n",
    "    # TODO: Implement Function\n",
    "    \n",
    "    session.run(optimizer, feed_dict={\n",
    "        x: feature_batch, \n",
    "        y: label_batch,\n",
    "        keep_prob: keep_probability\n",
    "    })\n",
    "    \n",
    "\n",
    "\"\"\"\n",
    "DON'T MODIFY ANYTHING IN THIS CELL THAT IS BELOW THIS LINE\n",
    "\"\"\"\n",
    "tests.test_train_nn(train_neural_network)"
   ]
  },
  {
   "cell_type": "markdown",
   "metadata": {
    "deletable": true,
    "editable": true
   },
   "source": [
    "### Show Stats\n",
    "Implement the function `print_stats` to print loss and validation accuracy.  Use the global variables `valid_features` and `valid_labels` to calculate validation accuracy.  Use a keep probability of `1.0` to calculate the loss and validation accuracy."
   ]
  },
  {
   "cell_type": "code",
   "execution_count": 59,
   "metadata": {
    "collapsed": false,
    "deletable": true,
    "editable": true
   },
   "outputs": [],
   "source": [
    "def print_stats(session, feature_batch, label_batch, cost, accuracy):\n",
    "    \"\"\"\n",
    "    Print information about loss and validation accuracy\n",
    "    : session: Current TensorFlow session\n",
    "    : feature_batch: Batch of Numpy image data\n",
    "    : label_batch: Batch of Numpy label data\n",
    "    : cost: TensorFlow cost function\n",
    "    : accuracy: TensorFlow accuracy function\n",
    "    \"\"\"\n",
    "    # TODO: Implement Function\n",
    "    \n",
    "    cost = session.run(cost, feed_dict = {\n",
    "        x: feature_batch, \n",
    "        y: label_batch, \n",
    "        keep_prob: 1.0\n",
    "    })\n",
    "    \n",
    "    validation_accuracy = session.run(accuracy, feed_dict = {\n",
    "        x: valid_features, \n",
    "        y: valid_labels, \n",
    "        keep_prob: 1.0\n",
    "    })\n",
    "    \n",
    "    print('Cost = {0} - Validation Accuracy = {1}'.format(cost, validation_accuracy))"
   ]
  },
  {
   "cell_type": "markdown",
   "metadata": {
    "deletable": true,
    "editable": true
   },
   "source": [
    "### Hyperparameters\n",
    "Tune the following parameters:\n",
    "* Set `epochs` to the number of iterations until the network stops learning or start overfitting\n",
    "* Set `batch_size` to the highest number that your machine has memory for.  Most people set them to common sizes of memory:\n",
    " * 64\n",
    " * 128\n",
    " * 256\n",
    " * ...\n",
    "* Set `keep_probability` to the probability of keeping a node using dropout"
   ]
  },
  {
   "cell_type": "code",
   "execution_count": 66,
   "metadata": {
    "collapsed": true,
    "deletable": true,
    "editable": true
   },
   "outputs": [],
   "source": [
    "# TODO: Tune Parameters\n",
    "epochs = 100\n",
    "batch_size = 512\n",
    "keep_probability = 0.5"
   ]
  },
  {
   "cell_type": "markdown",
   "metadata": {
    "deletable": true,
    "editable": true
   },
   "source": [
    "### Train on a Single CIFAR-10 Batch\n",
    "Instead of training the neural network on all the CIFAR-10 batches of data, let's use a single batch. This should save time while you iterate on the model to get a better accuracy.  Once the final validation accuracy is 50% or greater, run the model on all the data in the next section."
   ]
  },
  {
   "cell_type": "code",
   "execution_count": 63,
   "metadata": {
    "collapsed": false,
    "deletable": true,
    "editable": true,
    "scrolled": false
   },
   "outputs": [
    {
     "name": "stdout",
     "output_type": "stream",
     "text": [
      "Checking the Training on a Single Batch...\n",
      "Epoch  1, CIFAR-10 Batch 1:  Cost = 3.394777297973633 - Validation Accuracy = 0.21559999883174896\n",
      "Epoch  2, CIFAR-10 Batch 1:  Cost = 1.89540696144104 - Validation Accuracy = 0.357200026512146\n",
      "Epoch  3, CIFAR-10 Batch 1:  Cost = 1.6549352407455444 - Validation Accuracy = 0.39479997754096985\n",
      "Epoch  4, CIFAR-10 Batch 1:  Cost = 1.5183377265930176 - Validation Accuracy = 0.4185999631881714\n",
      "Epoch  5, CIFAR-10 Batch 1:  Cost = 1.4234609603881836 - Validation Accuracy = 0.4339999556541443\n",
      "Epoch  6, CIFAR-10 Batch 1:  Cost = 1.3722984790802002 - Validation Accuracy = 0.44259995222091675\n",
      "Epoch  7, CIFAR-10 Batch 1:  Cost = 1.3109368085861206 - Validation Accuracy = 0.4503999352455139\n",
      "Epoch  8, CIFAR-10 Batch 1:  Cost = 1.2696117162704468 - Validation Accuracy = 0.4529999792575836\n",
      "Epoch  9, CIFAR-10 Batch 1:  Cost = 1.2324546575546265 - Validation Accuracy = 0.45239996910095215\n",
      "Epoch 10, CIFAR-10 Batch 1:  Cost = 1.2051043510437012 - Validation Accuracy = 0.4569999873638153\n",
      "Epoch 11, CIFAR-10 Batch 1:  Cost = 1.176284909248352 - Validation Accuracy = 0.46279993653297424\n",
      "Epoch 12, CIFAR-10 Batch 1:  Cost = 1.1513954401016235 - Validation Accuracy = 0.468999981880188\n",
      "Epoch 13, CIFAR-10 Batch 1:  Cost = 1.1312952041625977 - Validation Accuracy = 0.47119995951652527\n",
      "Epoch 14, CIFAR-10 Batch 1:  Cost = 1.0910584926605225 - Validation Accuracy = 0.4675999879837036\n",
      "Epoch 15, CIFAR-10 Batch 1:  Cost = 1.0731487274169922 - Validation Accuracy = 0.468999981880188\n",
      "Epoch 16, CIFAR-10 Batch 1:  Cost = 1.0466803312301636 - Validation Accuracy = 0.47939997911453247\n",
      "Epoch 17, CIFAR-10 Batch 1:  Cost = 1.035011887550354 - Validation Accuracy = 0.4723999500274658\n",
      "Epoch 18, CIFAR-10 Batch 1:  Cost = 1.0179104804992676 - Validation Accuracy = 0.47339996695518494\n",
      "Epoch 19, CIFAR-10 Batch 1:  Cost = 0.9905482530593872 - Validation Accuracy = 0.4763999581336975\n",
      "Epoch 20, CIFAR-10 Batch 1:  Cost = 1.006028175354004 - Validation Accuracy = 0.46779996156692505\n",
      "Epoch 21, CIFAR-10 Batch 1:  Cost = 0.9371947050094604 - Validation Accuracy = 0.48399996757507324\n",
      "Epoch 22, CIFAR-10 Batch 1:  Cost = 0.9317190051078796 - Validation Accuracy = 0.47999995946884155\n",
      "Epoch 23, CIFAR-10 Batch 1:  Cost = 0.9118344783782959 - Validation Accuracy = 0.488599956035614\n",
      "Epoch 24, CIFAR-10 Batch 1:  Cost = 0.8796247243881226 - Validation Accuracy = 0.4893999695777893\n",
      "Epoch 25, CIFAR-10 Batch 1:  Cost = 0.8858894109725952 - Validation Accuracy = 0.48419997096061707\n",
      "Epoch 26, CIFAR-10 Batch 1:  Cost = 0.8612210750579834 - Validation Accuracy = 0.49439993500709534\n",
      "Epoch 27, CIFAR-10 Batch 1:  Cost = 0.8794432282447815 - Validation Accuracy = 0.47499993443489075\n",
      "Epoch 28, CIFAR-10 Batch 1:  Cost = 0.8315284252166748 - Validation Accuracy = 0.48819997906684875\n",
      "Epoch 29, CIFAR-10 Batch 1:  Cost = 0.8095353245735168 - Validation Accuracy = 0.48799997568130493\n",
      "Epoch 30, CIFAR-10 Batch 1:  Cost = 0.8348658084869385 - Validation Accuracy = 0.48499995470046997\n"
     ]
    }
   ],
   "source": [
    "\"\"\"\n",
    "DON'T MODIFY ANYTHING IN THIS CELL\n",
    "\"\"\"\n",
    "print('Checking the Training on a Single Batch...')\n",
    "with tf.Session() as sess:\n",
    "    # Initializing the variables\n",
    "    sess.run(tf.global_variables_initializer())\n",
    "    \n",
    "    # Training cycle\n",
    "    for epoch in range(epochs):\n",
    "        batch_i = 1\n",
    "        for batch_features, batch_labels in helper.load_preprocess_training_batch(batch_i, batch_size):\n",
    "            train_neural_network(sess, optimizer, keep_probability, batch_features, batch_labels)\n",
    "        print('Epoch {:>2}, CIFAR-10 Batch {}:  '.format(epoch + 1, batch_i), end='')\n",
    "        print_stats(sess, batch_features, batch_labels, cost, accuracy)"
   ]
  },
  {
   "cell_type": "markdown",
   "metadata": {
    "deletable": true,
    "editable": true
   },
   "source": [
    "### Fully Train the Model\n",
    "Now that you got a good accuracy with a single CIFAR-10 batch, try it with all five batches."
   ]
  },
  {
   "cell_type": "code",
   "execution_count": 67,
   "metadata": {
    "collapsed": false,
    "deletable": true,
    "editable": true,
    "scrolled": true
   },
   "outputs": [
    {
     "name": "stdout",
     "output_type": "stream",
     "text": [
      "Training...\n",
      "Epoch  1, CIFAR-10 Batch 1:  Cost = 4.86887264251709 - Validation Accuracy = 0.24959999322891235\n",
      "Epoch  1, CIFAR-10 Batch 2:  Cost = 2.191226005554199 - Validation Accuracy = 0.3413999676704407\n",
      "Epoch  1, CIFAR-10 Batch 3:  Cost = 1.848348617553711 - Validation Accuracy = 0.38519999384880066\n",
      "Epoch  1, CIFAR-10 Batch 4:  Cost = 1.688421368598938 - Validation Accuracy = 0.3993999660015106\n",
      "Epoch  1, CIFAR-10 Batch 5:  Cost = 1.6993259191513062 - Validation Accuracy = 0.41359999775886536\n",
      "Epoch  2, CIFAR-10 Batch 1:  Cost = 1.7703336477279663 - Validation Accuracy = 0.4296000003814697\n",
      "Epoch  2, CIFAR-10 Batch 2:  Cost = 1.5386781692504883 - Validation Accuracy = 0.44339999556541443\n",
      "Epoch  2, CIFAR-10 Batch 3:  Cost = 1.514211893081665 - Validation Accuracy = 0.4503999650478363\n",
      "Epoch  2, CIFAR-10 Batch 4:  Cost = 1.4708391427993774 - Validation Accuracy = 0.44999998807907104\n",
      "Epoch  2, CIFAR-10 Batch 5:  Cost = 1.5695184469223022 - Validation Accuracy = 0.454399973154068\n",
      "Epoch  3, CIFAR-10 Batch 1:  Cost = 1.6052322387695312 - Validation Accuracy = 0.4621999263763428\n",
      "Epoch  3, CIFAR-10 Batch 2:  Cost = 1.4593662023544312 - Validation Accuracy = 0.45879992842674255\n",
      "Epoch  3, CIFAR-10 Batch 3:  Cost = 1.43802809715271 - Validation Accuracy = 0.46639999747276306\n",
      "Epoch  3, CIFAR-10 Batch 4:  Cost = 1.39417564868927 - Validation Accuracy = 0.46619993448257446\n",
      "Epoch  3, CIFAR-10 Batch 5:  Cost = 1.481541633605957 - Validation Accuracy = 0.4729999303817749\n",
      "Epoch  4, CIFAR-10 Batch 1:  Cost = 1.5362893342971802 - Validation Accuracy = 0.475600004196167\n",
      "Epoch  4, CIFAR-10 Batch 2:  Cost = 1.3714627027511597 - Validation Accuracy = 0.48639994859695435\n",
      "Epoch  4, CIFAR-10 Batch 3:  Cost = 1.3907644748687744 - Validation Accuracy = 0.48159995675086975\n",
      "Epoch  4, CIFAR-10 Batch 4:  Cost = 1.339746356010437 - Validation Accuracy = 0.4813999533653259\n",
      "Epoch  4, CIFAR-10 Batch 5:  Cost = 1.4392528533935547 - Validation Accuracy = 0.4875999689102173\n",
      "Epoch  5, CIFAR-10 Batch 1:  Cost = 1.4901974201202393 - Validation Accuracy = 0.4869999587535858\n",
      "Epoch  5, CIFAR-10 Batch 2:  Cost = 1.3492201566696167 - Validation Accuracy = 0.4928000271320343\n",
      "Epoch  5, CIFAR-10 Batch 3:  Cost = 1.3214242458343506 - Validation Accuracy = 0.494799941778183\n",
      "Epoch  5, CIFAR-10 Batch 4:  Cost = 1.2976981401443481 - Validation Accuracy = 0.49959996342658997\n",
      "Epoch  5, CIFAR-10 Batch 5:  Cost = 1.401036024093628 - Validation Accuracy = 0.4959999918937683\n",
      "Epoch  6, CIFAR-10 Batch 1:  Cost = 1.4548249244689941 - Validation Accuracy = 0.4989999532699585\n",
      "Epoch  6, CIFAR-10 Batch 2:  Cost = 1.3129655122756958 - Validation Accuracy = 0.4959999620914459\n",
      "Epoch  6, CIFAR-10 Batch 3:  Cost = 1.31146240234375 - Validation Accuracy = 0.49519994854927063\n",
      "Epoch  6, CIFAR-10 Batch 4:  Cost = 1.2816691398620605 - Validation Accuracy = 0.4875999689102173\n",
      "Epoch  6, CIFAR-10 Batch 5:  Cost = 1.369450569152832 - Validation Accuracy = 0.5125999450683594\n",
      "Epoch  7, CIFAR-10 Batch 1:  Cost = 1.4151182174682617 - Validation Accuracy = 0.5055999755859375\n",
      "Epoch  7, CIFAR-10 Batch 2:  Cost = 1.265021800994873 - Validation Accuracy = 0.5059999227523804\n",
      "Epoch  7, CIFAR-10 Batch 3:  Cost = 1.2659834623336792 - Validation Accuracy = 0.5127999782562256\n",
      "Epoch  7, CIFAR-10 Batch 4:  Cost = 1.2300665378570557 - Validation Accuracy = 0.5057999491691589\n",
      "Epoch  7, CIFAR-10 Batch 5:  Cost = 1.3703784942626953 - Validation Accuracy = 0.4957999289035797\n",
      "Epoch  8, CIFAR-10 Batch 1:  Cost = 1.4073050022125244 - Validation Accuracy = 0.49459993839263916\n",
      "Epoch  8, CIFAR-10 Batch 2:  Cost = 1.2553000450134277 - Validation Accuracy = 0.5001999735832214\n",
      "Epoch  8, CIFAR-10 Batch 3:  Cost = 1.2595332860946655 - Validation Accuracy = 0.5029999613761902\n",
      "Epoch  8, CIFAR-10 Batch 4:  Cost = 1.2110657691955566 - Validation Accuracy = 0.5065999627113342\n",
      "Epoch  8, CIFAR-10 Batch 5:  Cost = 1.34349524974823 - Validation Accuracy = 0.5099999904632568\n",
      "Epoch  9, CIFAR-10 Batch 1:  Cost = 1.3637025356292725 - Validation Accuracy = 0.5099999904632568\n",
      "Epoch  9, CIFAR-10 Batch 2:  Cost = 1.2251302003860474 - Validation Accuracy = 0.5203999280929565\n",
      "Epoch  9, CIFAR-10 Batch 3:  Cost = 1.20488440990448 - Validation Accuracy = 0.524399995803833\n",
      "Epoch  9, CIFAR-10 Batch 4:  Cost = 1.1861680746078491 - Validation Accuracy = 0.5127999782562256\n",
      "Epoch  9, CIFAR-10 Batch 5:  Cost = 1.290921926498413 - Validation Accuracy = 0.524399995803833\n",
      "Epoch 10, CIFAR-10 Batch 1:  Cost = 1.3291778564453125 - Validation Accuracy = 0.5263999700546265\n",
      "Epoch 10, CIFAR-10 Batch 2:  Cost = 1.1848379373550415 - Validation Accuracy = 0.5383999347686768\n",
      "Epoch 10, CIFAR-10 Batch 3:  Cost = 1.1957025527954102 - Validation Accuracy = 0.5217999815940857\n",
      "Epoch 10, CIFAR-10 Batch 4:  Cost = 1.2250839471817017 - Validation Accuracy = 0.5009999871253967\n",
      "Epoch 10, CIFAR-10 Batch 5:  Cost = 1.2767577171325684 - Validation Accuracy = 0.5197999477386475\n",
      "Epoch 11, CIFAR-10 Batch 1:  Cost = 1.3003604412078857 - Validation Accuracy = 0.5365999341011047\n",
      "Epoch 11, CIFAR-10 Batch 2:  Cost = 1.1788595914840698 - Validation Accuracy = 0.5239999294281006\n",
      "Epoch 11, CIFAR-10 Batch 3:  Cost = 1.1601250171661377 - Validation Accuracy = 0.5401999354362488\n",
      "Epoch 11, CIFAR-10 Batch 4:  Cost = 1.1177873611450195 - Validation Accuracy = 0.5301999449729919\n",
      "Epoch 11, CIFAR-10 Batch 5:  Cost = 1.2614518404006958 - Validation Accuracy = 0.5153999328613281\n",
      "Epoch 12, CIFAR-10 Batch 1:  Cost = 1.2934648990631104 - Validation Accuracy = 0.5331999063491821\n",
      "Epoch 12, CIFAR-10 Batch 2:  Cost = 1.166547179222107 - Validation Accuracy = 0.5353999137878418\n",
      "Epoch 12, CIFAR-10 Batch 3:  Cost = 1.1607097387313843 - Validation Accuracy = 0.5369999408721924\n",
      "Epoch 12, CIFAR-10 Batch 4:  Cost = 1.123424768447876 - Validation Accuracy = 0.5279999375343323\n",
      "Epoch 12, CIFAR-10 Batch 5:  Cost = 1.2245779037475586 - Validation Accuracy = 0.5365999341011047\n",
      "Epoch 13, CIFAR-10 Batch 1:  Cost = 1.2665094137191772 - Validation Accuracy = 0.5509999394416809\n",
      "Epoch 13, CIFAR-10 Batch 2:  Cost = 1.1162012815475464 - Validation Accuracy = 0.5497999787330627\n",
      "Epoch 13, CIFAR-10 Batch 3:  Cost = 1.1130625009536743 - Validation Accuracy = 0.5521999597549438\n",
      "Epoch 13, CIFAR-10 Batch 4:  Cost = 1.1138300895690918 - Validation Accuracy = 0.5327999591827393\n",
      "Epoch 13, CIFAR-10 Batch 5:  Cost = 1.189847707748413 - Validation Accuracy = 0.545199990272522\n",
      "Epoch 14, CIFAR-10 Batch 1:  Cost = 1.2526029348373413 - Validation Accuracy = 0.5317999720573425\n",
      "Epoch 14, CIFAR-10 Batch 2:  Cost = 1.0982106924057007 - Validation Accuracy = 0.5485999584197998\n",
      "Epoch 14, CIFAR-10 Batch 3:  Cost = 1.101102352142334 - Validation Accuracy = 0.5571999549865723\n",
      "Epoch 14, CIFAR-10 Batch 4:  Cost = 1.109130620956421 - Validation Accuracy = 0.5211999416351318\n",
      "Epoch 14, CIFAR-10 Batch 5:  Cost = 1.1605026721954346 - Validation Accuracy = 0.559999942779541\n",
      "Epoch 15, CIFAR-10 Batch 1:  Cost = 1.2196948528289795 - Validation Accuracy = 0.5557999610900879\n",
      "Epoch 15, CIFAR-10 Batch 2:  Cost = 1.0646047592163086 - Validation Accuracy = 0.5557999610900879\n",
      "Epoch 15, CIFAR-10 Batch 3:  Cost = 1.105665683746338 - Validation Accuracy = 0.5525999069213867\n",
      "Epoch 15, CIFAR-10 Batch 4:  Cost = 1.070373296737671 - Validation Accuracy = 0.5351999402046204\n",
      "Epoch 15, CIFAR-10 Batch 5:  Cost = 1.1464200019836426 - Validation Accuracy = 0.5503999590873718\n",
      "Epoch 16, CIFAR-10 Batch 1:  Cost = 1.192408800125122 - Validation Accuracy = 0.5651999115943909\n",
      "Epoch 16, CIFAR-10 Batch 2:  Cost = 1.0550280809402466 - Validation Accuracy = 0.5557999014854431\n",
      "Epoch 16, CIFAR-10 Batch 3:  Cost = 1.0698342323303223 - Validation Accuracy = 0.5623999834060669\n",
      "Epoch 16, CIFAR-10 Batch 4:  Cost = 1.0407592058181763 - Validation Accuracy = 0.5537999272346497\n",
      "Epoch 16, CIFAR-10 Batch 5:  Cost = 1.1249473094940186 - Validation Accuracy = 0.5631999373435974\n",
      "Epoch 17, CIFAR-10 Batch 1:  Cost = 1.1821035146713257 - Validation Accuracy = 0.5557999610900879\n",
      "Epoch 17, CIFAR-10 Batch 2:  Cost = 1.055243730545044 - Validation Accuracy = 0.5577999353408813\n",
      "Epoch 17, CIFAR-10 Batch 3:  Cost = 1.0700016021728516 - Validation Accuracy = 0.5583999156951904\n",
      "Epoch 17, CIFAR-10 Batch 4:  Cost = 1.0083930492401123 - Validation Accuracy = 0.556999921798706\n",
      "Epoch 17, CIFAR-10 Batch 5:  Cost = 1.0974758863449097 - Validation Accuracy = 0.5643999576568604\n",
      "Epoch 18, CIFAR-10 Batch 1:  Cost = 1.162401556968689 - Validation Accuracy = 0.5695999264717102\n",
      "Epoch 18, CIFAR-10 Batch 2:  Cost = 1.0554611682891846 - Validation Accuracy = 0.562999963760376\n",
      "Epoch 18, CIFAR-10 Batch 3:  Cost = 1.0538852214813232 - Validation Accuracy = 0.5673999190330505\n",
      "Epoch 18, CIFAR-10 Batch 4:  Cost = 1.022159218788147 - Validation Accuracy = 0.5403999090194702\n",
      "Epoch 18, CIFAR-10 Batch 5:  Cost = 1.088140845298767 - Validation Accuracy = 0.5605999231338501\n",
      "Epoch 19, CIFAR-10 Batch 1:  Cost = 1.145999789237976 - Validation Accuracy = 0.5697999000549316\n",
      "Epoch 19, CIFAR-10 Batch 2:  Cost = 1.0112608671188354 - Validation Accuracy = 0.568399965763092\n",
      "Epoch 19, CIFAR-10 Batch 3:  Cost = 1.0786312818527222 - Validation Accuracy = 0.5557999014854431\n",
      "Epoch 19, CIFAR-10 Batch 4:  Cost = 1.0237869024276733 - Validation Accuracy = 0.5375999212265015\n",
      "Epoch 19, CIFAR-10 Batch 5:  Cost = 1.091912031173706 - Validation Accuracy = 0.5561999082565308\n",
      "Epoch 20, CIFAR-10 Batch 1:  Cost = 1.2289823293685913 - Validation Accuracy = 0.5273999571800232\n",
      "Epoch 20, CIFAR-10 Batch 2:  Cost = 1.0007389783859253 - Validation Accuracy = 0.569599986076355\n",
      "Epoch 20, CIFAR-10 Batch 3:  Cost = 1.06406569480896 - Validation Accuracy = 0.5663999319076538\n",
      "Epoch 20, CIFAR-10 Batch 4:  Cost = 1.008418083190918 - Validation Accuracy = 0.5455999374389648\n",
      "Epoch 20, CIFAR-10 Batch 5:  Cost = 1.0618271827697754 - Validation Accuracy = 0.5671999454498291\n",
      "Epoch 21, CIFAR-10 Batch 1:  Cost = 1.1687769889831543 - Validation Accuracy = 0.5485999584197998\n",
      "Epoch 21, CIFAR-10 Batch 2:  Cost = 1.0003485679626465 - Validation Accuracy = 0.5691999197006226\n",
      "Epoch 21, CIFAR-10 Batch 3:  Cost = 1.0464622974395752 - Validation Accuracy = 0.5667998790740967\n",
      "Epoch 21, CIFAR-10 Batch 4:  Cost = 0.9854776263237 - Validation Accuracy = 0.5521999597549438\n",
      "Epoch 21, CIFAR-10 Batch 5:  Cost = 1.0490670204162598 - Validation Accuracy = 0.5675999522209167\n",
      "Epoch 22, CIFAR-10 Batch 1:  Cost = 1.1406948566436768 - Validation Accuracy = 0.5555999279022217\n",
      "Epoch 22, CIFAR-10 Batch 2:  Cost = 1.0251667499542236 - Validation Accuracy = 0.5585999488830566\n",
      "Epoch 22, CIFAR-10 Batch 3:  Cost = 1.0436432361602783 - Validation Accuracy = 0.5679998993873596\n",
      "Epoch 22, CIFAR-10 Batch 4:  Cost = 0.9964854717254639 - Validation Accuracy = 0.5467999577522278\n",
      "Epoch 22, CIFAR-10 Batch 5:  Cost = 1.0514450073242188 - Validation Accuracy = 0.558199942111969\n",
      "Epoch 23, CIFAR-10 Batch 1:  Cost = 1.1202149391174316 - Validation Accuracy = 0.5591999292373657\n",
      "Epoch 23, CIFAR-10 Batch 2:  Cost = 0.9917402267456055 - Validation Accuracy = 0.5665999054908752\n",
      "Epoch 23, CIFAR-10 Batch 3:  Cost = 1.0185877084732056 - Validation Accuracy = 0.5761999487876892\n",
      "Epoch 23, CIFAR-10 Batch 4:  Cost = 0.9651103019714355 - Validation Accuracy = 0.5631998777389526\n",
      "Epoch 23, CIFAR-10 Batch 5:  Cost = 1.0991159677505493 - Validation Accuracy = 0.5445999503135681\n",
      "Epoch 24, CIFAR-10 Batch 1:  Cost = 1.1230684518814087 - Validation Accuracy = 0.5547999143600464\n",
      "Epoch 24, CIFAR-10 Batch 2:  Cost = 0.9698857665061951 - Validation Accuracy = 0.569599986076355\n",
      "Epoch 24, CIFAR-10 Batch 3:  Cost = 1.0253183841705322 - Validation Accuracy = 0.5671999454498291\n",
      "Epoch 24, CIFAR-10 Batch 4:  Cost = 0.9732462763786316 - Validation Accuracy = 0.553399920463562\n",
      "Epoch 24, CIFAR-10 Batch 5:  Cost = 1.0691086053848267 - Validation Accuracy = 0.5639999508857727\n",
      "Epoch 25, CIFAR-10 Batch 1:  Cost = 1.1480963230133057 - Validation Accuracy = 0.5493999719619751\n",
      "Epoch 25, CIFAR-10 Batch 2:  Cost = 0.9756654500961304 - Validation Accuracy = 0.5637999176979065\n",
      "Epoch 25, CIFAR-10 Batch 3:  Cost = 1.054508924484253 - Validation Accuracy = 0.5643999576568604\n",
      "Epoch 25, CIFAR-10 Batch 4:  Cost = 0.9465224742889404 - Validation Accuracy = 0.5633999109268188\n",
      "Epoch 25, CIFAR-10 Batch 5:  Cost = 1.0477572679519653 - Validation Accuracy = 0.5663999319076538\n",
      "Epoch 26, CIFAR-10 Batch 1:  Cost = 1.132335901260376 - Validation Accuracy = 0.5501999855041504\n",
      "Epoch 26, CIFAR-10 Batch 2:  Cost = 1.0111050605773926 - Validation Accuracy = 0.5477999448776245\n",
      "Epoch 26, CIFAR-10 Batch 3:  Cost = 1.018176794052124 - Validation Accuracy = 0.5755999088287354\n",
      "Epoch 26, CIFAR-10 Batch 4:  Cost = 0.9596649408340454 - Validation Accuracy = 0.5677999258041382\n",
      "Epoch 26, CIFAR-10 Batch 5:  Cost = 1.030129075050354 - Validation Accuracy = 0.578999936580658\n",
      "Epoch 27, CIFAR-10 Batch 1:  Cost = 1.1384150981903076 - Validation Accuracy = 0.5555999279022217\n",
      "Epoch 27, CIFAR-10 Batch 2:  Cost = 0.9541596174240112 - Validation Accuracy = 0.5715999007225037\n",
      "Epoch 27, CIFAR-10 Batch 3:  Cost = 1.0003008842468262 - Validation Accuracy = 0.577799916267395\n",
      "Epoch 27, CIFAR-10 Batch 4:  Cost = 0.9399291276931763 - Validation Accuracy = 0.5695999264717102\n",
      "Epoch 27, CIFAR-10 Batch 5:  Cost = 1.0141313076019287 - Validation Accuracy = 0.5767999291419983\n",
      "Epoch 28, CIFAR-10 Batch 1:  Cost = 1.1104552745819092 - Validation Accuracy = 0.5719999074935913\n",
      "Epoch 28, CIFAR-10 Batch 2:  Cost = 0.9798884391784668 - Validation Accuracy = 0.5623999238014221\n",
      "Epoch 28, CIFAR-10 Batch 3:  Cost = 1.0304920673370361 - Validation Accuracy = 0.5717998743057251\n",
      "Epoch 28, CIFAR-10 Batch 4:  Cost = 0.9303339123725891 - Validation Accuracy = 0.5717999339103699\n",
      "Epoch 28, CIFAR-10 Batch 5:  Cost = 1.0055495500564575 - Validation Accuracy = 0.5749999284744263\n",
      "Epoch 29, CIFAR-10 Batch 1:  Cost = 1.0994882583618164 - Validation Accuracy = 0.5713998675346375\n",
      "Epoch 29, CIFAR-10 Batch 2:  Cost = 0.9679498672485352 - Validation Accuracy = 0.5681999325752258\n",
      "Epoch 29, CIFAR-10 Batch 3:  Cost = 1.0487823486328125 - Validation Accuracy = 0.5677999258041382\n",
      "Epoch 29, CIFAR-10 Batch 4:  Cost = 0.9258671402931213 - Validation Accuracy = 0.5751999616622925\n",
      "Epoch 29, CIFAR-10 Batch 5:  Cost = 1.0020155906677246 - Validation Accuracy = 0.5799998641014099\n",
      "Epoch 30, CIFAR-10 Batch 1:  Cost = 1.1071321964263916 - Validation Accuracy = 0.5699999332427979\n",
      "Epoch 30, CIFAR-10 Batch 2:  Cost = 0.9583396911621094 - Validation Accuracy = 0.5661998987197876\n",
      "Epoch 30, CIFAR-10 Batch 3:  Cost = 1.0071724653244019 - Validation Accuracy = 0.5717999935150146\n",
      "Epoch 30, CIFAR-10 Batch 4:  Cost = 0.924756646156311 - Validation Accuracy = 0.5767999291419983\n",
      "Epoch 30, CIFAR-10 Batch 5:  Cost = 1.033200740814209 - Validation Accuracy = 0.5675999522209167\n",
      "Epoch 31, CIFAR-10 Batch 1:  Cost = 1.1016695499420166 - Validation Accuracy = 0.5629999041557312\n",
      "Epoch 31, CIFAR-10 Batch 2:  Cost = 0.9374783039093018 - Validation Accuracy = 0.5823999643325806\n",
      "Epoch 31, CIFAR-10 Batch 3:  Cost = 0.9967108964920044 - Validation Accuracy = 0.5803999304771423\n",
      "Epoch 31, CIFAR-10 Batch 4:  Cost = 0.9465709924697876 - Validation Accuracy = 0.5582000017166138\n",
      "Epoch 31, CIFAR-10 Batch 5:  Cost = 0.9873104095458984 - Validation Accuracy = 0.5753998756408691\n",
      "Epoch 32, CIFAR-10 Batch 1:  Cost = 1.0786855220794678 - Validation Accuracy = 0.5801998972892761\n",
      "Epoch 32, CIFAR-10 Batch 2:  Cost = 0.9724323749542236 - Validation Accuracy = 0.5643999576568604\n",
      "Epoch 32, CIFAR-10 Batch 3:  Cost = 1.0003124475479126 - Validation Accuracy = 0.5765998959541321\n",
      "Epoch 32, CIFAR-10 Batch 4:  Cost = 0.951360821723938 - Validation Accuracy = 0.5527999401092529\n",
      "Epoch 32, CIFAR-10 Batch 5:  Cost = 0.9930679798126221 - Validation Accuracy = 0.5745999217033386\n",
      "Epoch 33, CIFAR-10 Batch 1:  Cost = 1.0661571025848389 - Validation Accuracy = 0.5783998966217041\n",
      "Epoch 33, CIFAR-10 Batch 2:  Cost = 0.9884328842163086 - Validation Accuracy = 0.5613999366760254\n",
      "Epoch 33, CIFAR-10 Batch 3:  Cost = 1.0000317096710205 - Validation Accuracy = 0.5845999121665955\n",
      "Epoch 33, CIFAR-10 Batch 4:  Cost = 0.9288721084594727 - Validation Accuracy = 0.5637999176979065\n",
      "Epoch 33, CIFAR-10 Batch 5:  Cost = 0.9793573617935181 - Validation Accuracy = 0.5827999711036682\n",
      "Epoch 34, CIFAR-10 Batch 1:  Cost = 1.051736831665039 - Validation Accuracy = 0.5841999053955078\n",
      "Epoch 34, CIFAR-10 Batch 2:  Cost = 0.9502168297767639 - Validation Accuracy = 0.5747998952865601\n",
      "Epoch 34, CIFAR-10 Batch 3:  Cost = 1.029776692390442 - Validation Accuracy = 0.5671999454498291\n",
      "Epoch 34, CIFAR-10 Batch 4:  Cost = 0.9196767807006836 - Validation Accuracy = 0.5691999197006226\n",
      "Epoch 34, CIFAR-10 Batch 5:  Cost = 1.0284441709518433 - Validation Accuracy = 0.56659996509552\n",
      "Epoch 35, CIFAR-10 Batch 1:  Cost = 1.052504062652588 - Validation Accuracy = 0.5769999027252197\n",
      "Epoch 35, CIFAR-10 Batch 2:  Cost = 0.9137178063392639 - Validation Accuracy = 0.5731998682022095\n",
      "Epoch 35, CIFAR-10 Batch 3:  Cost = 0.9852787852287292 - Validation Accuracy = 0.5781999826431274\n",
      "Epoch 35, CIFAR-10 Batch 4:  Cost = 0.9065103530883789 - Validation Accuracy = 0.5651999115943909\n",
      "Epoch 35, CIFAR-10 Batch 5:  Cost = 1.0125664472579956 - Validation Accuracy = 0.5727999210357666\n",
      "Epoch 36, CIFAR-10 Batch 1:  Cost = 1.0831968784332275 - Validation Accuracy = 0.5699998736381531\n",
      "Epoch 36, CIFAR-10 Batch 2:  Cost = 0.9018340706825256 - Validation Accuracy = 0.5803999304771423\n",
      "Epoch 36, CIFAR-10 Batch 3:  Cost = 0.9827654361724854 - Validation Accuracy = 0.5809999108314514\n",
      "Epoch 36, CIFAR-10 Batch 4:  Cost = 0.9126243591308594 - Validation Accuracy = 0.5653998851776123\n",
      "Epoch 36, CIFAR-10 Batch 5:  Cost = 0.9730938673019409 - Validation Accuracy = 0.5767999291419983\n",
      "Epoch 37, CIFAR-10 Batch 1:  Cost = 1.064329743385315 - Validation Accuracy = 0.5701999068260193\n",
      "Epoch 37, CIFAR-10 Batch 2:  Cost = 0.9462733864784241 - Validation Accuracy = 0.5605999827384949\n",
      "Epoch 37, CIFAR-10 Batch 3:  Cost = 0.9895039200782776 - Validation Accuracy = 0.5740000009536743\n",
      "Epoch 37, CIFAR-10 Batch 4:  Cost = 0.9292004704475403 - Validation Accuracy = 0.5593999028205872\n",
      "Epoch 37, CIFAR-10 Batch 5:  Cost = 0.9917987585067749 - Validation Accuracy = 0.5783998966217041\n",
      "Epoch 38, CIFAR-10 Batch 1:  Cost = 1.0669856071472168 - Validation Accuracy = 0.5657999515533447\n",
      "Epoch 38, CIFAR-10 Batch 2:  Cost = 0.9055368304252625 - Validation Accuracy = 0.5847998857498169\n",
      "Epoch 38, CIFAR-10 Batch 3:  Cost = 0.9694457054138184 - Validation Accuracy = 0.5823999047279358\n",
      "Epoch 38, CIFAR-10 Batch 4:  Cost = 0.8948168158531189 - Validation Accuracy = 0.5667999386787415\n",
      "Epoch 38, CIFAR-10 Batch 5:  Cost = 0.9585537910461426 - Validation Accuracy = 0.5809999108314514\n",
      "Epoch 39, CIFAR-10 Batch 1:  Cost = 1.0461831092834473 - Validation Accuracy = 0.5755999088287354\n",
      "Epoch 39, CIFAR-10 Batch 2:  Cost = 0.9091423153877258 - Validation Accuracy = 0.5831999182701111\n",
      "Epoch 39, CIFAR-10 Batch 3:  Cost = 0.9865763187408447 - Validation Accuracy = 0.5775998830795288\n",
      "Epoch 39, CIFAR-10 Batch 4:  Cost = 0.9033994674682617 - Validation Accuracy = 0.5573998689651489\n",
      "Epoch 39, CIFAR-10 Batch 5:  Cost = 0.9830335378646851 - Validation Accuracy = 0.5759999752044678\n",
      "Epoch 40, CIFAR-10 Batch 1:  Cost = 1.043732762336731 - Validation Accuracy = 0.5827999711036682\n",
      "Epoch 40, CIFAR-10 Batch 2:  Cost = 0.9249534606933594 - Validation Accuracy = 0.5757999420166016\n",
      "Epoch 40, CIFAR-10 Batch 3:  Cost = 0.9733991026878357 - Validation Accuracy = 0.5829999446868896\n",
      "Epoch 40, CIFAR-10 Batch 4:  Cost = 0.8905032277107239 - Validation Accuracy = 0.569599986076355\n",
      "Epoch 40, CIFAR-10 Batch 5:  Cost = 0.9608545303344727 - Validation Accuracy = 0.582599937915802\n",
      "Epoch 41, CIFAR-10 Batch 1:  Cost = 1.0341160297393799 - Validation Accuracy = 0.5841999053955078\n",
      "Epoch 41, CIFAR-10 Batch 2:  Cost = 0.8927556276321411 - Validation Accuracy = 0.5837998986244202\n",
      "Epoch 41, CIFAR-10 Batch 3:  Cost = 0.9789257049560547 - Validation Accuracy = 0.582599937915802\n",
      "Epoch 41, CIFAR-10 Batch 4:  Cost = 0.8996202945709229 - Validation Accuracy = 0.5653999447822571\n",
      "Epoch 41, CIFAR-10 Batch 5:  Cost = 0.9531267285346985 - Validation Accuracy = 0.5805999040603638\n",
      "Epoch 42, CIFAR-10 Batch 1:  Cost = 1.0467238426208496 - Validation Accuracy = 0.571399986743927\n",
      "Epoch 42, CIFAR-10 Batch 2:  Cost = 0.9627658128738403 - Validation Accuracy = 0.5649999380111694\n",
      "Epoch 42, CIFAR-10 Batch 3:  Cost = 0.9716340899467468 - Validation Accuracy = 0.5767999291419983\n",
      "Epoch 42, CIFAR-10 Batch 4:  Cost = 0.920015811920166 - Validation Accuracy = 0.559999942779541\n",
      "Epoch 42, CIFAR-10 Batch 5:  Cost = 0.9769887328147888 - Validation Accuracy = 0.5749999284744263\n",
      "Epoch 43, CIFAR-10 Batch 1:  Cost = 1.0604290962219238 - Validation Accuracy = 0.5749999284744263\n",
      "Epoch 43, CIFAR-10 Batch 2:  Cost = 0.9213804602622986 - Validation Accuracy = 0.5709999799728394\n",
      "Epoch 43, CIFAR-10 Batch 3:  Cost = 0.9873340129852295 - Validation Accuracy = 0.5721999406814575\n",
      "Epoch 43, CIFAR-10 Batch 4:  Cost = 0.8984953761100769 - Validation Accuracy = 0.5621998906135559\n",
      "Epoch 43, CIFAR-10 Batch 5:  Cost = 0.948783278465271 - Validation Accuracy = 0.5851998925209045\n",
      "Epoch 44, CIFAR-10 Batch 1:  Cost = 1.0385268926620483 - Validation Accuracy = 0.5767999291419983\n",
      "Epoch 44, CIFAR-10 Batch 2:  Cost = 0.9101847410202026 - Validation Accuracy = 0.5783998966217041\n",
      "Epoch 44, CIFAR-10 Batch 3:  Cost = 0.952409029006958 - Validation Accuracy = 0.5787999629974365\n",
      "Epoch 44, CIFAR-10 Batch 4:  Cost = 0.8840466141700745 - Validation Accuracy = 0.5739999413490295\n",
      "Epoch 44, CIFAR-10 Batch 5:  Cost = 0.9516645669937134 - Validation Accuracy = 0.5799999237060547\n",
      "Epoch 45, CIFAR-10 Batch 1:  Cost = 1.027074933052063 - Validation Accuracy = 0.5787999629974365\n",
      "Epoch 45, CIFAR-10 Batch 2:  Cost = 0.9418715238571167 - Validation Accuracy = 0.5647999048233032\n",
      "Epoch 45, CIFAR-10 Batch 3:  Cost = 0.9611890912055969 - Validation Accuracy = 0.5837998390197754\n",
      "Epoch 45, CIFAR-10 Batch 4:  Cost = 0.8860015273094177 - Validation Accuracy = 0.5693999528884888\n",
      "Epoch 45, CIFAR-10 Batch 5:  Cost = 0.9301265478134155 - Validation Accuracy = 0.58079993724823\n",
      "Epoch 46, CIFAR-10 Batch 1:  Cost = 1.0489182472229004 - Validation Accuracy = 0.5811999440193176\n",
      "Epoch 46, CIFAR-10 Batch 2:  Cost = 0.9266800284385681 - Validation Accuracy = 0.5713999271392822\n",
      "Epoch 46, CIFAR-10 Batch 3:  Cost = 0.9562057256698608 - Validation Accuracy = 0.5851999521255493\n",
      "Epoch 46, CIFAR-10 Batch 4:  Cost = 0.8990776538848877 - Validation Accuracy = 0.5639999508857727\n",
      "Epoch 46, CIFAR-10 Batch 5:  Cost = 0.9315234422683716 - Validation Accuracy = 0.5865998864173889\n",
      "Epoch 47, CIFAR-10 Batch 1:  Cost = 1.0216795206069946 - Validation Accuracy = 0.5845999121665955\n",
      "Epoch 47, CIFAR-10 Batch 2:  Cost = 0.9598514437675476 - Validation Accuracy = 0.5631998777389526\n",
      "Epoch 47, CIFAR-10 Batch 3:  Cost = 0.982120156288147 - Validation Accuracy = 0.5787999033927917\n",
      "Epoch 47, CIFAR-10 Batch 4:  Cost = 0.8958603739738464 - Validation Accuracy = 0.5679998993873596\n",
      "Epoch 47, CIFAR-10 Batch 5:  Cost = 0.9326132535934448 - Validation Accuracy = 0.5883999466896057\n",
      "Epoch 48, CIFAR-10 Batch 1:  Cost = 1.0588622093200684 - Validation Accuracy = 0.5727999210357666\n",
      "Epoch 48, CIFAR-10 Batch 2:  Cost = 0.875339686870575 - Validation Accuracy = 0.5851999521255493\n",
      "Epoch 48, CIFAR-10 Batch 3:  Cost = 0.9530296921730042 - Validation Accuracy = 0.5893998742103577\n",
      "Epoch 48, CIFAR-10 Batch 4:  Cost = 0.8807989358901978 - Validation Accuracy = 0.5719999670982361\n",
      "Epoch 48, CIFAR-10 Batch 5:  Cost = 0.9195523262023926 - Validation Accuracy = 0.5867998600006104\n",
      "Epoch 49, CIFAR-10 Batch 1:  Cost = 1.06242036819458 - Validation Accuracy = 0.5637999176979065\n",
      "Epoch 49, CIFAR-10 Batch 2:  Cost = 0.9042760133743286 - Validation Accuracy = 0.5761999487876892\n",
      "Epoch 49, CIFAR-10 Batch 3:  Cost = 0.9582124352455139 - Validation Accuracy = 0.5833999514579773\n",
      "Epoch 49, CIFAR-10 Batch 4:  Cost = 0.8690942525863647 - Validation Accuracy = 0.5797999501228333\n",
      "Epoch 49, CIFAR-10 Batch 5:  Cost = 0.9299691915512085 - Validation Accuracy = 0.577799916267395\n",
      "Epoch 50, CIFAR-10 Batch 1:  Cost = 0.9991960525512695 - Validation Accuracy = 0.5887998938560486\n",
      "Epoch 50, CIFAR-10 Batch 2:  Cost = 0.9375817775726318 - Validation Accuracy = 0.5715999007225037\n",
      "Epoch 50, CIFAR-10 Batch 3:  Cost = 0.9356549978256226 - Validation Accuracy = 0.5895999073982239\n",
      "Epoch 50, CIFAR-10 Batch 4:  Cost = 0.8517404198646545 - Validation Accuracy = 0.5825998783111572\n",
      "Epoch 50, CIFAR-10 Batch 5:  Cost = 0.9184421300888062 - Validation Accuracy = 0.5853999257087708\n",
      "Epoch 51, CIFAR-10 Batch 1:  Cost = 1.026326060295105 - Validation Accuracy = 0.5831998586654663\n",
      "Epoch 51, CIFAR-10 Batch 2:  Cost = 0.9159315824508667 - Validation Accuracy = 0.5729999542236328\n",
      "Epoch 51, CIFAR-10 Batch 3:  Cost = 0.965040922164917 - Validation Accuracy = 0.5739998817443848\n",
      "Epoch 51, CIFAR-10 Batch 4:  Cost = 0.8629457950592041 - Validation Accuracy = 0.5767998695373535\n",
      "Epoch 51, CIFAR-10 Batch 5:  Cost = 0.9162635803222656 - Validation Accuracy = 0.5853999257087708\n",
      "Epoch 52, CIFAR-10 Batch 1:  Cost = 1.0181268453598022 - Validation Accuracy = 0.5771999359130859\n",
      "Epoch 52, CIFAR-10 Batch 2:  Cost = 0.9237164258956909 - Validation Accuracy = 0.5699999332427979\n",
      "Epoch 52, CIFAR-10 Batch 3:  Cost = 0.9668098092079163 - Validation Accuracy = 0.5793999433517456\n",
      "Epoch 52, CIFAR-10 Batch 4:  Cost = 0.8844500184059143 - Validation Accuracy = 0.5657999515533447\n",
      "Epoch 52, CIFAR-10 Batch 5:  Cost = 0.9059159755706787 - Validation Accuracy = 0.5825998783111572\n",
      "Epoch 53, CIFAR-10 Batch 1:  Cost = 1.0310090780258179 - Validation Accuracy = 0.5749999284744263\n",
      "Epoch 53, CIFAR-10 Batch 2:  Cost = 0.8840866684913635 - Validation Accuracy = 0.5755999088287354\n",
      "Epoch 53, CIFAR-10 Batch 3:  Cost = 0.9618589878082275 - Validation Accuracy = 0.5817999243736267\n",
      "Epoch 53, CIFAR-10 Batch 4:  Cost = 0.8663564324378967 - Validation Accuracy = 0.578999936580658\n",
      "Epoch 53, CIFAR-10 Batch 5:  Cost = 0.9648910760879517 - Validation Accuracy = 0.5709999203681946\n",
      "Epoch 54, CIFAR-10 Batch 1:  Cost = 1.0111860036849976 - Validation Accuracy = 0.5777998566627502\n",
      "Epoch 54, CIFAR-10 Batch 2:  Cost = 0.8870836496353149 - Validation Accuracy = 0.5867998600006104\n",
      "Epoch 54, CIFAR-10 Batch 3:  Cost = 0.937261164188385 - Validation Accuracy = 0.5851999521255493\n",
      "Epoch 54, CIFAR-10 Batch 4:  Cost = 0.8638669848442078 - Validation Accuracy = 0.58079993724823\n",
      "Epoch 54, CIFAR-10 Batch 5:  Cost = 0.942154586315155 - Validation Accuracy = 0.5823999047279358\n",
      "Epoch 55, CIFAR-10 Batch 1:  Cost = 1.0056066513061523 - Validation Accuracy = 0.5863999724388123\n",
      "Epoch 55, CIFAR-10 Batch 2:  Cost = 0.8751829862594604 - Validation Accuracy = 0.5829998850822449\n",
      "Epoch 55, CIFAR-10 Batch 3:  Cost = 0.9483909606933594 - Validation Accuracy = 0.5895999073982239\n",
      "Epoch 55, CIFAR-10 Batch 4:  Cost = 0.8580882549285889 - Validation Accuracy = 0.5833998918533325\n",
      "Epoch 55, CIFAR-10 Batch 5:  Cost = 0.9150214195251465 - Validation Accuracy = 0.5797998905181885\n",
      "Epoch 56, CIFAR-10 Batch 1:  Cost = 1.0434845685958862 - Validation Accuracy = 0.5699999332427979\n",
      "Epoch 56, CIFAR-10 Batch 2:  Cost = 0.8847203850746155 - Validation Accuracy = 0.5825998783111572\n",
      "Epoch 56, CIFAR-10 Batch 3:  Cost = 0.9217506647109985 - Validation Accuracy = 0.5855998992919922\n",
      "Epoch 56, CIFAR-10 Batch 4:  Cost = 0.8684433102607727 - Validation Accuracy = 0.5769999623298645\n",
      "Epoch 56, CIFAR-10 Batch 5:  Cost = 0.9015817642211914 - Validation Accuracy = 0.5865999460220337\n",
      "Epoch 57, CIFAR-10 Batch 1:  Cost = 0.9976494908332825 - Validation Accuracy = 0.5885999202728271\n",
      "Epoch 57, CIFAR-10 Batch 2:  Cost = 0.8821378946304321 - Validation Accuracy = 0.5781999826431274\n",
      "Epoch 57, CIFAR-10 Batch 3:  Cost = 0.9085632562637329 - Validation Accuracy = 0.5907999277114868\n",
      "Epoch 57, CIFAR-10 Batch 4:  Cost = 0.837730884552002 - Validation Accuracy = 0.5839999914169312\n",
      "Epoch 57, CIFAR-10 Batch 5:  Cost = 0.8873435258865356 - Validation Accuracy = 0.5871999859809875\n",
      "Epoch 58, CIFAR-10 Batch 1:  Cost = 1.0082212686538696 - Validation Accuracy = 0.5841999053955078\n",
      "Epoch 58, CIFAR-10 Batch 2:  Cost = 0.9014052748680115 - Validation Accuracy = 0.5795999765396118\n",
      "Epoch 58, CIFAR-10 Batch 3:  Cost = 0.9309090971946716 - Validation Accuracy = 0.5885999202728271\n",
      "Epoch 58, CIFAR-10 Batch 4:  Cost = 0.8249703645706177 - Validation Accuracy = 0.5915999412536621\n",
      "Epoch 58, CIFAR-10 Batch 5:  Cost = 0.9267702102661133 - Validation Accuracy = 0.5793999433517456\n",
      "Epoch 59, CIFAR-10 Batch 1:  Cost = 0.9957065582275391 - Validation Accuracy = 0.5873998999595642\n",
      "Epoch 59, CIFAR-10 Batch 2:  Cost = 0.8898302912712097 - Validation Accuracy = 0.5793999433517456\n",
      "Epoch 59, CIFAR-10 Batch 3:  Cost = 0.9298565983772278 - Validation Accuracy = 0.5869998931884766\n",
      "Epoch 59, CIFAR-10 Batch 4:  Cost = 0.8378600478172302 - Validation Accuracy = 0.5903999209403992\n",
      "Epoch 59, CIFAR-10 Batch 5:  Cost = 0.8927947282791138 - Validation Accuracy = 0.5945999026298523\n",
      "Epoch 60, CIFAR-10 Batch 1:  Cost = 0.9635809063911438 - Validation Accuracy = 0.5917999148368835\n",
      "Epoch 60, CIFAR-10 Batch 2:  Cost = 0.8695741295814514 - Validation Accuracy = 0.5823999643325806\n",
      "Epoch 60, CIFAR-10 Batch 3:  Cost = 0.9441555142402649 - Validation Accuracy = 0.5747998952865601\n",
      "Epoch 60, CIFAR-10 Batch 4:  Cost = 0.8538338541984558 - Validation Accuracy = 0.5787999629974365\n",
      "Epoch 60, CIFAR-10 Batch 5:  Cost = 0.9087303876876831 - Validation Accuracy = 0.5837998986244202\n",
      "Epoch 61, CIFAR-10 Batch 1:  Cost = 0.9913573265075684 - Validation Accuracy = 0.5835999250411987\n",
      "Epoch 61, CIFAR-10 Batch 2:  Cost = 0.9007969498634338 - Validation Accuracy = 0.577799916267395\n",
      "Epoch 61, CIFAR-10 Batch 3:  Cost = 0.9241399765014648 - Validation Accuracy = 0.587399959564209\n",
      "Epoch 61, CIFAR-10 Batch 4:  Cost = 0.8492157459259033 - Validation Accuracy = 0.5761999487876892\n",
      "Epoch 61, CIFAR-10 Batch 5:  Cost = 0.8809912800788879 - Validation Accuracy = 0.5877999067306519\n",
      "Epoch 62, CIFAR-10 Batch 1:  Cost = 0.9981645345687866 - Validation Accuracy = 0.577799916267395\n",
      "Epoch 62, CIFAR-10 Batch 2:  Cost = 0.8674173355102539 - Validation Accuracy = 0.585399866104126\n",
      "Epoch 62, CIFAR-10 Batch 3:  Cost = 0.9454905986785889 - Validation Accuracy = 0.5797998905181885\n",
      "Epoch 62, CIFAR-10 Batch 4:  Cost = 0.8363132476806641 - Validation Accuracy = 0.5873998999595642\n",
      "Epoch 62, CIFAR-10 Batch 5:  Cost = 0.8981767892837524 - Validation Accuracy = 0.587399959564209\n",
      "Epoch 63, CIFAR-10 Batch 1:  Cost = 1.0047619342803955 - Validation Accuracy = 0.5755999684333801\n",
      "Epoch 63, CIFAR-10 Batch 2:  Cost = 0.8761495351791382 - Validation Accuracy = 0.5773999691009521\n",
      "Epoch 63, CIFAR-10 Batch 3:  Cost = 0.9242538809776306 - Validation Accuracy = 0.5898000001907349\n",
      "Epoch 63, CIFAR-10 Batch 4:  Cost = 0.8309996128082275 - Validation Accuracy = 0.5841999053955078\n",
      "Epoch 63, CIFAR-10 Batch 5:  Cost = 0.8886526823043823 - Validation Accuracy = 0.5941998958587646\n",
      "Epoch 64, CIFAR-10 Batch 1:  Cost = 0.9775013327598572 - Validation Accuracy = 0.5895998477935791\n",
      "Epoch 64, CIFAR-10 Batch 2:  Cost = 0.872900664806366 - Validation Accuracy = 0.5773999691009521\n",
      "Epoch 64, CIFAR-10 Batch 3:  Cost = 0.9129570722579956 - Validation Accuracy = 0.5857998728752136\n",
      "Epoch 64, CIFAR-10 Batch 4:  Cost = 0.8459623456001282 - Validation Accuracy = 0.5767998695373535\n",
      "Epoch 64, CIFAR-10 Batch 5:  Cost = 0.8680786490440369 - Validation Accuracy = 0.5945999026298523\n",
      "Epoch 65, CIFAR-10 Batch 1:  Cost = 0.9695435166358948 - Validation Accuracy = 0.5913999080657959\n",
      "Epoch 65, CIFAR-10 Batch 2:  Cost = 0.8751445412635803 - Validation Accuracy = 0.584399938583374\n",
      "Epoch 65, CIFAR-10 Batch 3:  Cost = 0.9436367154121399 - Validation Accuracy = 0.5811999440193176\n",
      "Epoch 65, CIFAR-10 Batch 4:  Cost = 0.8219714164733887 - Validation Accuracy = 0.5817999243736267\n",
      "Epoch 65, CIFAR-10 Batch 5:  Cost = 0.8796120285987854 - Validation Accuracy = 0.5951999425888062\n",
      "Epoch 66, CIFAR-10 Batch 1:  Cost = 0.9979826211929321 - Validation Accuracy = 0.5811998844146729\n",
      "Epoch 66, CIFAR-10 Batch 2:  Cost = 0.8753952980041504 - Validation Accuracy = 0.5851999521255493\n",
      "Epoch 66, CIFAR-10 Batch 3:  Cost = 0.925347626209259 - Validation Accuracy = 0.5837999582290649\n",
      "Epoch 66, CIFAR-10 Batch 4:  Cost = 0.8172167539596558 - Validation Accuracy = 0.5911999344825745\n",
      "Epoch 66, CIFAR-10 Batch 5:  Cost = 0.863603949546814 - Validation Accuracy = 0.5959998965263367\n",
      "Epoch 67, CIFAR-10 Batch 1:  Cost = 1.0029852390289307 - Validation Accuracy = 0.571399986743927\n",
      "Epoch 67, CIFAR-10 Batch 2:  Cost = 0.8962082266807556 - Validation Accuracy = 0.5735998749732971\n",
      "Epoch 67, CIFAR-10 Batch 3:  Cost = 0.9283090829849243 - Validation Accuracy = 0.5855998992919922\n",
      "Epoch 67, CIFAR-10 Batch 4:  Cost = 0.8562542796134949 - Validation Accuracy = 0.5685999393463135\n",
      "Epoch 67, CIFAR-10 Batch 5:  Cost = 0.8707824945449829 - Validation Accuracy = 0.595599889755249\n",
      "Epoch 68, CIFAR-10 Batch 1:  Cost = 0.9698257446289062 - Validation Accuracy = 0.5897999405860901\n",
      "Epoch 68, CIFAR-10 Batch 2:  Cost = 0.9229956269264221 - Validation Accuracy = 0.56659996509552\n",
      "Epoch 68, CIFAR-10 Batch 3:  Cost = 0.949337363243103 - Validation Accuracy = 0.5799999237060547\n",
      "Epoch 68, CIFAR-10 Batch 4:  Cost = 0.8352212905883789 - Validation Accuracy = 0.5845999121665955\n",
      "Epoch 68, CIFAR-10 Batch 5:  Cost = 0.8900611400604248 - Validation Accuracy = 0.5897999405860901\n",
      "Epoch 69, CIFAR-10 Batch 1:  Cost = 0.9533826112747192 - Validation Accuracy = 0.5925998687744141\n",
      "Epoch 69, CIFAR-10 Batch 2:  Cost = 0.8526747226715088 - Validation Accuracy = 0.5879999399185181\n",
      "Epoch 69, CIFAR-10 Batch 3:  Cost = 0.9499906301498413 - Validation Accuracy = 0.5763999223709106\n",
      "Epoch 69, CIFAR-10 Batch 4:  Cost = 0.8568421006202698 - Validation Accuracy = 0.5823999047279358\n",
      "Epoch 69, CIFAR-10 Batch 5:  Cost = 0.8720738887786865 - Validation Accuracy = 0.6011998653411865\n",
      "Epoch 70, CIFAR-10 Batch 1:  Cost = 0.9556875228881836 - Validation Accuracy = 0.5933998823165894\n",
      "Epoch 70, CIFAR-10 Batch 2:  Cost = 0.8866324424743652 - Validation Accuracy = 0.5793998837471008\n",
      "Epoch 70, CIFAR-10 Batch 3:  Cost = 0.9265875220298767 - Validation Accuracy = 0.5841999053955078\n",
      "Epoch 70, CIFAR-10 Batch 4:  Cost = 0.8132134079933167 - Validation Accuracy = 0.5947999358177185\n",
      "Epoch 70, CIFAR-10 Batch 5:  Cost = 0.8863039612770081 - Validation Accuracy = 0.5917998552322388\n",
      "Epoch 71, CIFAR-10 Batch 1:  Cost = 0.9651276469230652 - Validation Accuracy = 0.5811998844146729\n",
      "Epoch 71, CIFAR-10 Batch 2:  Cost = 0.8682365417480469 - Validation Accuracy = 0.5857999324798584\n",
      "Epoch 71, CIFAR-10 Batch 3:  Cost = 0.9421613216400146 - Validation Accuracy = 0.5791999101638794\n",
      "Epoch 71, CIFAR-10 Batch 4:  Cost = 0.8379225730895996 - Validation Accuracy = 0.5871999263763428\n",
      "Epoch 71, CIFAR-10 Batch 5:  Cost = 0.8853347301483154 - Validation Accuracy = 0.5883998870849609\n",
      "Epoch 72, CIFAR-10 Batch 1:  Cost = 0.960530698299408 - Validation Accuracy = 0.5931999087333679\n",
      "Epoch 72, CIFAR-10 Batch 2:  Cost = 0.8735358715057373 - Validation Accuracy = 0.5789998769760132\n",
      "Epoch 72, CIFAR-10 Batch 3:  Cost = 0.9401422739028931 - Validation Accuracy = 0.575999915599823\n",
      "Epoch 72, CIFAR-10 Batch 4:  Cost = 0.8668713569641113 - Validation Accuracy = 0.5763999223709106\n",
      "Epoch 72, CIFAR-10 Batch 5:  Cost = 0.8891767859458923 - Validation Accuracy = 0.5907999277114868\n",
      "Epoch 73, CIFAR-10 Batch 1:  Cost = 0.9572105407714844 - Validation Accuracy = 0.5983999371528625\n",
      "Epoch 73, CIFAR-10 Batch 2:  Cost = 0.8655149340629578 - Validation Accuracy = 0.5933999419212341\n",
      "Epoch 73, CIFAR-10 Batch 3:  Cost = 0.966622531414032 - Validation Accuracy = 0.572399914264679\n",
      "Epoch 73, CIFAR-10 Batch 4:  Cost = 0.8316940069198608 - Validation Accuracy = 0.5871999263763428\n",
      "Epoch 73, CIFAR-10 Batch 5:  Cost = 0.9027339220046997 - Validation Accuracy = 0.5831999182701111\n",
      "Epoch 74, CIFAR-10 Batch 1:  Cost = 0.9642415046691895 - Validation Accuracy = 0.590799868106842\n",
      "Epoch 74, CIFAR-10 Batch 2:  Cost = 0.8725119233131409 - Validation Accuracy = 0.5747999548912048\n",
      "Epoch 74, CIFAR-10 Batch 3:  Cost = 0.9304386377334595 - Validation Accuracy = 0.5905998945236206\n",
      "Epoch 74, CIFAR-10 Batch 4:  Cost = 0.8586379289627075 - Validation Accuracy = 0.578999936580658\n",
      "Epoch 74, CIFAR-10 Batch 5:  Cost = 0.8673762083053589 - Validation Accuracy = 0.5943998694419861\n",
      "Epoch 75, CIFAR-10 Batch 1:  Cost = 0.9380835294723511 - Validation Accuracy = 0.5953998565673828\n",
      "Epoch 75, CIFAR-10 Batch 2:  Cost = 0.8508899807929993 - Validation Accuracy = 0.5911998748779297\n",
      "Epoch 75, CIFAR-10 Batch 3:  Cost = 0.9058616161346436 - Validation Accuracy = 0.5937999486923218\n",
      "Epoch 75, CIFAR-10 Batch 4:  Cost = 0.8306641578674316 - Validation Accuracy = 0.5835999250411987\n",
      "Epoch 75, CIFAR-10 Batch 5:  Cost = 0.8715122938156128 - Validation Accuracy = 0.5991998910903931\n",
      "Epoch 76, CIFAR-10 Batch 1:  Cost = 0.952885627746582 - Validation Accuracy = 0.5873998999595642\n",
      "Epoch 76, CIFAR-10 Batch 2:  Cost = 0.8436306715011597 - Validation Accuracy = 0.591999888420105\n",
      "Epoch 76, CIFAR-10 Batch 3:  Cost = 0.9015076160430908 - Validation Accuracy = 0.5971998572349548\n",
      "Epoch 76, CIFAR-10 Batch 4:  Cost = 0.8427664637565613 - Validation Accuracy = 0.5735999345779419\n",
      "Epoch 76, CIFAR-10 Batch 5:  Cost = 0.9123260974884033 - Validation Accuracy = 0.578999936580658\n",
      "Epoch 77, CIFAR-10 Batch 1:  Cost = 0.9576549530029297 - Validation Accuracy = 0.5875998735427856\n",
      "Epoch 77, CIFAR-10 Batch 2:  Cost = 0.8533825278282166 - Validation Accuracy = 0.598599910736084\n",
      "Epoch 77, CIFAR-10 Batch 3:  Cost = 0.9154390096664429 - Validation Accuracy = 0.5957999229431152\n",
      "Epoch 77, CIFAR-10 Batch 4:  Cost = 0.8553664684295654 - Validation Accuracy = 0.5719999670982361\n",
      "Epoch 77, CIFAR-10 Batch 5:  Cost = 0.8795084953308105 - Validation Accuracy = 0.5957999229431152\n",
      "Epoch 78, CIFAR-10 Batch 1:  Cost = 0.9459898471832275 - Validation Accuracy = 0.5953999161720276\n",
      "Epoch 78, CIFAR-10 Batch 2:  Cost = 0.8473790287971497 - Validation Accuracy = 0.5933998823165894\n",
      "Epoch 78, CIFAR-10 Batch 3:  Cost = 0.8789981603622437 - Validation Accuracy = 0.6031998991966248\n",
      "Epoch 78, CIFAR-10 Batch 4:  Cost = 0.8352457284927368 - Validation Accuracy = 0.5911998748779297\n",
      "Epoch 78, CIFAR-10 Batch 5:  Cost = 0.881752610206604 - Validation Accuracy = 0.591999888420105\n",
      "Epoch 79, CIFAR-10 Batch 1:  Cost = 0.961249828338623 - Validation Accuracy = 0.5929999351501465\n",
      "Epoch 79, CIFAR-10 Batch 2:  Cost = 0.8398862481117249 - Validation Accuracy = 0.5951999425888062\n",
      "Epoch 79, CIFAR-10 Batch 3:  Cost = 0.9206258654594421 - Validation Accuracy = 0.5887998938560486\n",
      "Epoch 79, CIFAR-10 Batch 4:  Cost = 0.8117456436157227 - Validation Accuracy = 0.5899999141693115\n",
      "Epoch 79, CIFAR-10 Batch 5:  Cost = 0.859471321105957 - Validation Accuracy = 0.6003998517990112\n",
      "Epoch 80, CIFAR-10 Batch 1:  Cost = 0.9448017477989197 - Validation Accuracy = 0.5931999087333679\n",
      "Epoch 80, CIFAR-10 Batch 2:  Cost = 0.8618699312210083 - Validation Accuracy = 0.5875999331474304\n",
      "Epoch 80, CIFAR-10 Batch 3:  Cost = 0.8795364499092102 - Validation Accuracy = 0.5993999242782593\n",
      "Epoch 80, CIFAR-10 Batch 4:  Cost = 0.8160281181335449 - Validation Accuracy = 0.5857999324798584\n",
      "Epoch 80, CIFAR-10 Batch 5:  Cost = 0.8788076043128967 - Validation Accuracy = 0.5903999209403992\n",
      "Epoch 81, CIFAR-10 Batch 1:  Cost = 0.9407209157943726 - Validation Accuracy = 0.593799889087677\n",
      "Epoch 81, CIFAR-10 Batch 2:  Cost = 0.8593109250068665 - Validation Accuracy = 0.5883999466896057\n",
      "Epoch 81, CIFAR-10 Batch 3:  Cost = 0.8858844637870789 - Validation Accuracy = 0.6049998998641968\n",
      "Epoch 81, CIFAR-10 Batch 4:  Cost = 0.826481819152832 - Validation Accuracy = 0.5769999027252197\n",
      "Epoch 81, CIFAR-10 Batch 5:  Cost = 0.8486968278884888 - Validation Accuracy = 0.5965999364852905\n",
      "Epoch 82, CIFAR-10 Batch 1:  Cost = 0.949783444404602 - Validation Accuracy = 0.5939999222755432\n",
      "Epoch 82, CIFAR-10 Batch 2:  Cost = 0.8275837302207947 - Validation Accuracy = 0.5963999032974243\n",
      "Epoch 82, CIFAR-10 Batch 3:  Cost = 0.9225797653198242 - Validation Accuracy = 0.5897998809814453\n",
      "Epoch 82, CIFAR-10 Batch 4:  Cost = 0.8526902198791504 - Validation Accuracy = 0.5837999582290649\n",
      "Epoch 82, CIFAR-10 Batch 5:  Cost = 0.8794503211975098 - Validation Accuracy = 0.5923998951911926\n",
      "Epoch 83, CIFAR-10 Batch 1:  Cost = 0.9820175766944885 - Validation Accuracy = 0.586199939250946\n",
      "Epoch 83, CIFAR-10 Batch 2:  Cost = 0.827767550945282 - Validation Accuracy = 0.5885999202728271\n",
      "Epoch 83, CIFAR-10 Batch 3:  Cost = 0.8762913942337036 - Validation Accuracy = 0.6003998517990112\n",
      "Epoch 83, CIFAR-10 Batch 4:  Cost = 0.7921359539031982 - Validation Accuracy = 0.5893999338150024\n",
      "Epoch 83, CIFAR-10 Batch 5:  Cost = 0.8597900867462158 - Validation Accuracy = 0.5965999364852905\n",
      "Epoch 84, CIFAR-10 Batch 1:  Cost = 0.9273641109466553 - Validation Accuracy = 0.5967999696731567\n",
      "Epoch 84, CIFAR-10 Batch 2:  Cost = 0.8415283560752869 - Validation Accuracy = 0.5867999196052551\n",
      "Epoch 84, CIFAR-10 Batch 3:  Cost = 0.9266108274459839 - Validation Accuracy = 0.5837998986244202\n",
      "Epoch 84, CIFAR-10 Batch 4:  Cost = 0.8019298315048218 - Validation Accuracy = 0.5923999547958374\n",
      "Epoch 84, CIFAR-10 Batch 5:  Cost = 0.849521279335022 - Validation Accuracy = 0.6013999581336975\n",
      "Epoch 85, CIFAR-10 Batch 1:  Cost = 0.9420895576477051 - Validation Accuracy = 0.593799889087677\n",
      "Epoch 85, CIFAR-10 Batch 2:  Cost = 0.8476602435112 - Validation Accuracy = 0.5901999473571777\n",
      "Epoch 85, CIFAR-10 Batch 3:  Cost = 0.9319145679473877 - Validation Accuracy = 0.5799999237060547\n",
      "Epoch 85, CIFAR-10 Batch 4:  Cost = 0.7979388236999512 - Validation Accuracy = 0.5967999696731567\n",
      "Epoch 85, CIFAR-10 Batch 5:  Cost = 0.8552265763282776 - Validation Accuracy = 0.6009999513626099\n",
      "Epoch 86, CIFAR-10 Batch 1:  Cost = 0.9210238456726074 - Validation Accuracy = 0.5959998369216919\n",
      "Epoch 86, CIFAR-10 Batch 2:  Cost = 0.8522108793258667 - Validation Accuracy = 0.5859999656677246\n",
      "Epoch 86, CIFAR-10 Batch 3:  Cost = 0.8744163513183594 - Validation Accuracy = 0.602199912071228\n",
      "Epoch 86, CIFAR-10 Batch 4:  Cost = 0.8044993877410889 - Validation Accuracy = 0.5885999202728271\n",
      "Epoch 86, CIFAR-10 Batch 5:  Cost = 0.8521216511726379 - Validation Accuracy = 0.6013998985290527\n",
      "Epoch 87, CIFAR-10 Batch 1:  Cost = 0.9636712670326233 - Validation Accuracy = 0.5875998735427856\n",
      "Epoch 87, CIFAR-10 Batch 2:  Cost = 0.8282938003540039 - Validation Accuracy = 0.5929998755455017\n",
      "Epoch 87, CIFAR-10 Batch 3:  Cost = 0.8926562666893005 - Validation Accuracy = 0.5913999080657959\n",
      "Epoch 87, CIFAR-10 Batch 4:  Cost = 0.8271214365959167 - Validation Accuracy = 0.5845999121665955\n",
      "Epoch 87, CIFAR-10 Batch 5:  Cost = 0.8604769706726074 - Validation Accuracy = 0.589199960231781\n",
      "Epoch 88, CIFAR-10 Batch 1:  Cost = 0.954893946647644 - Validation Accuracy = 0.5937999486923218\n",
      "Epoch 88, CIFAR-10 Batch 2:  Cost = 0.892034649848938 - Validation Accuracy = 0.5653999447822571\n",
      "Epoch 88, CIFAR-10 Batch 3:  Cost = 0.9031621813774109 - Validation Accuracy = 0.5947999358177185\n",
      "Epoch 88, CIFAR-10 Batch 4:  Cost = 0.810241162776947 - Validation Accuracy = 0.5923998951911926\n",
      "Epoch 88, CIFAR-10 Batch 5:  Cost = 0.845856785774231 - Validation Accuracy = 0.5941999554634094\n",
      "Epoch 89, CIFAR-10 Batch 1:  Cost = 0.9271527528762817 - Validation Accuracy = 0.6035999059677124\n",
      "Epoch 89, CIFAR-10 Batch 2:  Cost = 0.8064087629318237 - Validation Accuracy = 0.5959998965263367\n",
      "Epoch 89, CIFAR-10 Batch 3:  Cost = 0.8645787239074707 - Validation Accuracy = 0.600600004196167\n",
      "Epoch 89, CIFAR-10 Batch 4:  Cost = 0.7974802851676941 - Validation Accuracy = 0.5919999480247498\n",
      "Epoch 89, CIFAR-10 Batch 5:  Cost = 0.8555964231491089 - Validation Accuracy = 0.5953999757766724\n",
      "Epoch 90, CIFAR-10 Batch 1:  Cost = 0.9334797263145447 - Validation Accuracy = 0.5987999439239502\n",
      "Epoch 90, CIFAR-10 Batch 2:  Cost = 0.831462025642395 - Validation Accuracy = 0.593799889087677\n",
      "Epoch 90, CIFAR-10 Batch 3:  Cost = 0.8647211790084839 - Validation Accuracy = 0.6021998524665833\n",
      "Epoch 90, CIFAR-10 Batch 4:  Cost = 0.8121824860572815 - Validation Accuracy = 0.5943999290466309\n",
      "Epoch 90, CIFAR-10 Batch 5:  Cost = 0.8340528011322021 - Validation Accuracy = 0.5971999168395996\n",
      "Epoch 91, CIFAR-10 Batch 1:  Cost = 0.9803358316421509 - Validation Accuracy = 0.5825998783111572\n",
      "Epoch 91, CIFAR-10 Batch 2:  Cost = 0.8424763679504395 - Validation Accuracy = 0.5865998864173889\n",
      "Epoch 91, CIFAR-10 Batch 3:  Cost = 0.9210270643234253 - Validation Accuracy = 0.585399866104126\n",
      "Epoch 91, CIFAR-10 Batch 4:  Cost = 0.8306394815444946 - Validation Accuracy = 0.590999960899353\n",
      "Epoch 91, CIFAR-10 Batch 5:  Cost = 0.851828932762146 - Validation Accuracy = 0.5941998958587646\n",
      "Epoch 92, CIFAR-10 Batch 1:  Cost = 0.9540114402770996 - Validation Accuracy = 0.5885999202728271\n",
      "Epoch 92, CIFAR-10 Batch 2:  Cost = 0.8627859950065613 - Validation Accuracy = 0.584399938583374\n",
      "Epoch 92, CIFAR-10 Batch 3:  Cost = 0.8985714316368103 - Validation Accuracy = 0.5979998707771301\n",
      "Epoch 92, CIFAR-10 Batch 4:  Cost = 0.8106790781021118 - Validation Accuracy = 0.5915998220443726\n",
      "Epoch 92, CIFAR-10 Batch 5:  Cost = 0.8272457122802734 - Validation Accuracy = 0.5977998971939087\n",
      "Epoch 93, CIFAR-10 Batch 1:  Cost = 0.9226312637329102 - Validation Accuracy = 0.5923998951911926\n",
      "Epoch 93, CIFAR-10 Batch 2:  Cost = 0.8355100750923157 - Validation Accuracy = 0.5923998951911926\n",
      "Epoch 93, CIFAR-10 Batch 3:  Cost = 0.9042617082595825 - Validation Accuracy = 0.5841999053955078\n",
      "Epoch 93, CIFAR-10 Batch 4:  Cost = 0.8003421425819397 - Validation Accuracy = 0.5975999236106873\n",
      "Epoch 93, CIFAR-10 Batch 5:  Cost = 0.8248978853225708 - Validation Accuracy = 0.600399911403656\n",
      "Epoch 94, CIFAR-10 Batch 1:  Cost = 0.9292150735855103 - Validation Accuracy = 0.5979998707771301\n",
      "Epoch 94, CIFAR-10 Batch 2:  Cost = 0.8380368947982788 - Validation Accuracy = 0.5867999196052551\n",
      "Epoch 94, CIFAR-10 Batch 3:  Cost = 0.8737807273864746 - Validation Accuracy = 0.5991998910903931\n",
      "Epoch 94, CIFAR-10 Batch 4:  Cost = 0.8027533292770386 - Validation Accuracy = 0.5871999263763428\n",
      "Epoch 94, CIFAR-10 Batch 5:  Cost = 0.8343955874443054 - Validation Accuracy = 0.5981999039649963\n",
      "Epoch 95, CIFAR-10 Batch 1:  Cost = 0.9106229543685913 - Validation Accuracy = 0.6065999269485474\n",
      "Epoch 95, CIFAR-10 Batch 2:  Cost = 0.8540279865264893 - Validation Accuracy = 0.5859999060630798\n",
      "Epoch 95, CIFAR-10 Batch 3:  Cost = 0.8541916012763977 - Validation Accuracy = 0.6065998673439026\n",
      "Epoch 95, CIFAR-10 Batch 4:  Cost = 0.792810320854187 - Validation Accuracy = 0.5937999486923218\n",
      "Epoch 95, CIFAR-10 Batch 5:  Cost = 0.8423148393630981 - Validation Accuracy = 0.5929999351501465\n",
      "Epoch 96, CIFAR-10 Batch 1:  Cost = 0.9313534498214722 - Validation Accuracy = 0.6017999053001404\n",
      "Epoch 96, CIFAR-10 Batch 2:  Cost = 0.8291295766830444 - Validation Accuracy = 0.5913999080657959\n",
      "Epoch 96, CIFAR-10 Batch 3:  Cost = 0.9112814664840698 - Validation Accuracy = 0.5777999758720398\n",
      "Epoch 96, CIFAR-10 Batch 4:  Cost = 0.7992173433303833 - Validation Accuracy = 0.591999888420105\n",
      "Epoch 96, CIFAR-10 Batch 5:  Cost = 0.8424058556556702 - Validation Accuracy = 0.598599910736084\n",
      "Epoch 97, CIFAR-10 Batch 1:  Cost = 0.924836277961731 - Validation Accuracy = 0.5951999425888062\n",
      "Epoch 97, CIFAR-10 Batch 2:  Cost = 0.8122888803482056 - Validation Accuracy = 0.5953999161720276\n",
      "Epoch 97, CIFAR-10 Batch 3:  Cost = 0.8898783922195435 - Validation Accuracy = 0.5855998992919922\n",
      "Epoch 97, CIFAR-10 Batch 4:  Cost = 0.8035396337509155 - Validation Accuracy = 0.5927999019622803\n",
      "Epoch 97, CIFAR-10 Batch 5:  Cost = 0.8426912426948547 - Validation Accuracy = 0.5989998579025269\n",
      "Epoch 98, CIFAR-10 Batch 1:  Cost = 0.9501888751983643 - Validation Accuracy = 0.5927999019622803\n",
      "Epoch 98, CIFAR-10 Batch 2:  Cost = 0.8266187310218811 - Validation Accuracy = 0.6005998849868774\n",
      "Epoch 98, CIFAR-10 Batch 3:  Cost = 0.8720170259475708 - Validation Accuracy = 0.6039998531341553\n",
      "Epoch 98, CIFAR-10 Batch 4:  Cost = 0.8235684633255005 - Validation Accuracy = 0.5953998565673828\n",
      "Epoch 98, CIFAR-10 Batch 5:  Cost = 0.8383635878562927 - Validation Accuracy = 0.6059999465942383\n",
      "Epoch 99, CIFAR-10 Batch 1:  Cost = 0.9081806540489197 - Validation Accuracy = 0.5993999242782593\n",
      "Epoch 99, CIFAR-10 Batch 2:  Cost = 0.8128899335861206 - Validation Accuracy = 0.6027999520301819\n",
      "Epoch 99, CIFAR-10 Batch 3:  Cost = 0.8781440258026123 - Validation Accuracy = 0.5877999067306519\n",
      "Epoch 99, CIFAR-10 Batch 4:  Cost = 0.7928194999694824 - Validation Accuracy = 0.601599931716919\n",
      "Epoch 99, CIFAR-10 Batch 5:  Cost = 0.8236245512962341 - Validation Accuracy = 0.6007999181747437\n",
      "Epoch 100, CIFAR-10 Batch 1:  Cost = 0.9476631879806519 - Validation Accuracy = 0.591999888420105\n",
      "Epoch 100, CIFAR-10 Batch 2:  Cost = 0.8256443738937378 - Validation Accuracy = 0.5845999121665955\n",
      "Epoch 100, CIFAR-10 Batch 3:  Cost = 0.8673149347305298 - Validation Accuracy = 0.5951999425888062\n",
      "Epoch 100, CIFAR-10 Batch 4:  Cost = 0.7878739833831787 - Validation Accuracy = 0.5897999405860901\n",
      "Epoch 100, CIFAR-10 Batch 5:  Cost = 0.8232429623603821 - Validation Accuracy = 0.6053999066352844\n"
     ]
    }
   ],
   "source": [
    "\"\"\"\n",
    "DON'T MODIFY ANYTHING IN THIS CELL\n",
    "\"\"\"\n",
    "save_model_path = './image_classification'\n",
    "\n",
    "print('Training...')\n",
    "with tf.Session() as sess:\n",
    "    # Initializing the variables\n",
    "    sess.run(tf.global_variables_initializer())\n",
    "    \n",
    "    # Training cycle\n",
    "    for epoch in range(epochs):\n",
    "        # Loop over all batches\n",
    "        n_batches = 5\n",
    "        for batch_i in range(1, n_batches + 1):\n",
    "            for batch_features, batch_labels in helper.load_preprocess_training_batch(batch_i, batch_size):\n",
    "                train_neural_network(sess, optimizer, keep_probability, batch_features, batch_labels)\n",
    "            print('Epoch {:>2}, CIFAR-10 Batch {}:  '.format(epoch + 1, batch_i), end='')\n",
    "            print_stats(sess, batch_features, batch_labels, cost, accuracy)\n",
    "            \n",
    "    # Save Model\n",
    "    saver = tf.train.Saver()\n",
    "    save_path = saver.save(sess, save_model_path)"
   ]
  },
  {
   "cell_type": "markdown",
   "metadata": {
    "deletable": true,
    "editable": true
   },
   "source": [
    "# Checkpoint\n",
    "The model has been saved to disk.\n",
    "## Test Model\n",
    "Test your model against the test dataset.  This will be your final accuracy. You should have an accuracy greater than 50%. If you don't, keep tweaking the model architecture and parameters."
   ]
  },
  {
   "cell_type": "code",
   "execution_count": 68,
   "metadata": {
    "collapsed": false,
    "deletable": true,
    "editable": true
   },
   "outputs": [
    {
     "name": "stdout",
     "output_type": "stream",
     "text": [
      "Testing Accuracy: 0.6083639711141586\n",
      "\n"
     ]
    },
    {
     "data": {
      "image/png": "[encoded data removed]",
      "text/plain": [
       "<matplotlib.figure.Figure at 0x2d039be1f60>"
      ]
     },
     "metadata": {
      "image/png": {
       "height": 319,
       "width": 355
      }
     },
     "output_type": "display_data"
    }
   ],
   "source": [
    "\"\"\"\n",
    "DON'T MODIFY ANYTHING IN THIS CELL\n",
    "\"\"\"\n",
    "%matplotlib inline\n",
    "%config InlineBackend.figure_format = 'retina'\n",
    "\n",
    "import tensorflow as tf\n",
    "import pickle\n",
    "import helper\n",
    "import random\n",
    "\n",
    "# Set batch size if not already set\n",
    "try:\n",
    "    if batch_size:\n",
    "        pass\n",
    "except NameError:\n",
    "    batch_size = 64\n",
    "\n",
    "save_model_path = './image_classification'\n",
    "n_samples = 4\n",
    "top_n_predictions = 3\n",
    "\n",
    "def test_model():\n",
    "    \"\"\"\n",
    "    Test the saved model against the test dataset\n",
    "    \"\"\"\n",
    "\n",
    "    test_features, test_labels = pickle.load(open('preprocess_training.p', mode='rb'))\n",
    "    loaded_graph = tf.Graph()\n",
    "\n",
    "    with tf.Session(graph=loaded_graph) as sess:\n",
    "        # Load model\n",
    "        loader = tf.train.import_meta_graph(save_model_path + '.meta')\n",
    "        loader.restore(sess, save_model_path)\n",
    "\n",
    "        # Get Tensors from loaded model\n",
    "        loaded_x = loaded_graph.get_tensor_by_name('x:0')\n",
    "        loaded_y = loaded_graph.get_tensor_by_name('y:0')\n",
    "        loaded_keep_prob = loaded_graph.get_tensor_by_name('keep_prob:0')\n",
    "        loaded_logits = loaded_graph.get_tensor_by_name('logits:0')\n",
    "        loaded_acc = loaded_graph.get_tensor_by_name('accuracy:0')\n",
    "        \n",
    "        # Get accuracy in batches for memory limitations\n",
    "        test_batch_acc_total = 0\n",
    "        test_batch_count = 0\n",
    "        \n",
    "        for train_feature_batch, train_label_batch in helper.batch_features_labels(test_features, test_labels, batch_size):\n",
    "            test_batch_acc_total += sess.run(\n",
    "                loaded_acc,\n",
    "                feed_dict={loaded_x: train_feature_batch, loaded_y: train_label_batch, loaded_keep_prob: 1.0})\n",
    "            test_batch_count += 1\n",
    "\n",
    "        print('Testing Accuracy: {}\\n'.format(test_batch_acc_total/test_batch_count))\n",
    "\n",
    "        # Print Random Samples\n",
    "        random_test_features, random_test_labels = tuple(zip(*random.sample(list(zip(test_features, test_labels)), n_samples)))\n",
    "        random_test_predictions = sess.run(\n",
    "            tf.nn.top_k(tf.nn.softmax(loaded_logits), top_n_predictions),\n",
    "            feed_dict={loaded_x: random_test_features, loaded_y: random_test_labels, loaded_keep_prob: 1.0})\n",
    "        helper.display_image_predictions(random_test_features, random_test_labels, random_test_predictions)\n",
    "\n",
    "\n",
    "test_model()"
   ]
  },
  {
   "cell_type": "markdown",
   "metadata": {
    "deletable": true,
    "editable": true
   },
   "source": [
    "## Why 50-80% Accuracy?\n",
    "You might be wondering why you can't get an accuracy any higher. First things first, 50% isn't bad for a simple CNN.  Pure guessing would get you 10% accuracy. That's because there are many more techniques that can be applied to your model and we recemmond that once you are done with this project, you explore!\n",
    "\n",
    "## Submitting This Project\n",
    "When submitting this project, make sure to run all the cells before saving the notebook.  Save the notebook file as \"image_classification.ipynb\" and save it as a HTML file under \"File\" -> \"Download as\".  Include the \"helper.py\" and \"problem_unittests.py\" files in your submission."
   ]
  }
 ],
 "metadata": {
  "kernelspec": {
   "display_name": "Python 3",
   "language": "python",
   "name": "python3"
  },
  "language_info": {
   "codemirror_mode": {
    "name": "ipython",
    "version": 3
   },
   "file_extension": ".py",
   "mimetype": "text/x-python",
   "name": "python",
   "nbconvert_exporter": "python",
   "pygments_lexer": "ipython3",
   "version": "3.5.2"
  },
  "widgets": {
   "state": {},
   "version": "1.1.2"
  }
 },
 "nbformat": 4,
 "nbformat_minor": 0
}
